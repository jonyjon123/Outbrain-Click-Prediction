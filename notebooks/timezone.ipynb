{
 "cells": [
  {
   "cell_type": "code",
   "execution_count": 1,
   "metadata": {
    "collapsed": true
   },
   "outputs": [],
   "source": [
    "#set to 1 if to import shapely and use it, without, some time zone retrievals can not be made\n",
    "#the rest of the packages are required for time zone fetching\n",
    "#can be set through initiallization notebook\n",
    "shapely_f = 1"
   ]
  },
  {
   "cell_type": "code",
   "execution_count": 2,
   "metadata": {
    "collapsed": false
   },
   "outputs": [],
   "source": [
    "#[pygecoders, geopy, pycountry, pytz, tzwhere, shapley] are the uncommon packages used\n",
    "#besides shapely all are a requirement\n",
    "import os\n",
    "import pandas as p\n",
    "import time\n",
    "import numpy as np\n",
    "from datetime import datetime, timedelta\n",
    "from geopy.geocoders import Nominatim\n",
    "from pygeocoder import Geocoder\n",
    "import pycountry\n",
    "from pytz import timezone\n",
    "import pytz\n",
    "from tzwhere import tzwhere\n",
    "if shapely_f:\n",
    "    import shapely"
   ]
  },
  {
   "cell_type": "code",
   "execution_count": 3,
   "metadata": {
    "collapsed": true
   },
   "outputs": [],
   "source": [
    "#path directory of tables\n",
    "\n",
    "path = os.getcwd()\n",
    "path = path[:-path[::-1].index('/')]\n",
    "path_b = path + \"source_tables/built/\""
   ]
  },
  {
   "cell_type": "code",
   "execution_count": 4,
   "metadata": {
    "collapsed": false
   },
   "outputs": [],
   "source": [
    "events = p.read_csv(path_b + \"events.csv\", usecols = [0,2,4], dtype={\"display_id\": int, \"timestamp\" : int, \"geo_location\" : str})\n",
    "\n",
    "#remove rows where geo_location is null, keep events where missing locations will be offset of 0\n",
    "events_parsing = events[events.geo_location.notnull()]"
   ]
  },
  {
   "cell_type": "code",
   "execution_count": 5,
   "metadata": {
    "collapsed": false
   },
   "outputs": [
    {
     "name": "stdout",
     "output_type": "stream",
     "text": [
      "   display_id  timestamp geo_location\n",
      "0           1         61    US>SC>519\n",
      "1           2         81    US>CA>807\n",
      "2           3        182    US>MI>505\n",
      "3           4        234    US>WV>564\n",
      "4           5        338        SG>00\n"
     ]
    }
   ],
   "source": [
    "print events_parsing.head()"
   ]
  },
  {
   "cell_type": "code",
   "execution_count": 6,
   "metadata": {
    "collapsed": true
   },
   "outputs": [],
   "source": [
    "#functions for parsing the abbreviations from the geo_location\n",
    "def parse_country(x):\n",
    "    if type(x) == float: # for nans\n",
    "        return None\n",
    "    x = x[:2]\n",
    "    if x.isdigit():\n",
    "        return None\n",
    "    if x == '--':\n",
    "        return None\n",
    "    else:\n",
    "        return x\n",
    "    \n",
    "def parse_state(x):\n",
    "    if type(x) == float: # for nans\n",
    "        return None\n",
    "    x = x[:2] + '-' + x[3:5]\n",
    "    if len(x) < 4:\n",
    "        return None\n",
    "    if x.isdigit():\n",
    "        return None\n",
    "    if x == '--':\n",
    "        return None\n",
    "    if x == '':\n",
    "        return None\n",
    "    else:\n",
    "        return x\n",
    "    \n",
    "def nan_check(x):\n",
    "    if x == -1:\n",
    "        return True\n",
    "    if type(x) == None:\n",
    "        return True\n",
    "    if x != x:\n",
    "        return True\n",
    "    return False"
   ]
  },
  {
   "cell_type": "code",
   "execution_count": 7,
   "metadata": {
    "collapsed": true
   },
   "outputs": [],
   "source": [
    "#dictionaries to get full country and state names\n",
    "country_mapping = {country.alpha_2 : country.name for country in pycountry.countries}\n",
    "state_mapping = {country_state.code : country_state.name for country_state in pycountry.subdivisions}\n",
    "\n",
    "#were missing so added manualy\n",
    "country_mapping['AN'] = 'Netherlands'\n",
    "country_mapping['FX'] = 'France'"
   ]
  },
  {
   "cell_type": "code",
   "execution_count": 8,
   "metadata": {
    "collapsed": false
   },
   "outputs": [],
   "source": [
    "#get a table of all country - state options ready to pull timezones\n",
    "#-1 resembles null (replacing for merging purposes)\n",
    "events_parsing = events_parsing.assign(country = events_parsing['geo_location'].apply(parse_country))\n",
    "events_parsing = events_parsing.assign(state = events_parsing['geo_location'].apply(parse_state))\n",
    "events_parsing = events_parsing.assign(country = events_parsing['country'].map(country_mapping))\n",
    "events_parsing = events_parsing.assign(state = events_parsing['state'].map(state_mapping))\n",
    "events_parsing = events_parsing[events_parsing.country.notnull()]\n",
    "events_parsing = events_parsing.fillna(-1)"
   ]
  },
  {
   "cell_type": "code",
   "execution_count": 9,
   "metadata": {
    "collapsed": false
   },
   "outputs": [
    {
     "name": "stdout",
     "output_type": "stream",
     "text": [
      "   display_id  timestamp geo_location        country           state\n",
      "0           1         61    US>SC>519  United States  South Carolina\n",
      "1           2         81    US>CA>807  United States      California\n",
      "2           3        182    US>MI>505  United States        Michigan\n",
      "3           4        234    US>WV>564  United States   West Virginia\n",
      "4           5        338        SG>00      Singapore              -1\n"
     ]
    }
   ],
   "source": [
    "print events_parsing.head()"
   ]
  },
  {
   "cell_type": "code",
   "execution_count": 10,
   "metadata": {
    "collapsed": true
   },
   "outputs": [],
   "source": [
    "#new table of country and state\n",
    "country_state_combos = events_parsing[['country','state']].groupby(['country','state']).count().reset_index()"
   ]
  },
  {
   "cell_type": "code",
   "execution_count": 11,
   "metadata": {
    "collapsed": false
   },
   "outputs": [
    {
     "name": "stdout",
     "output_type": "stream",
     "text": [
      "       country   state\n",
      "0  Afghanistan      -1\n",
      "1      Albania      -1\n",
      "2      Algeria      -1\n",
      "3      Algeria   Adrar\n",
      "4      Algeria  Biskra\n",
      "(648, 2)\n"
     ]
    }
   ],
   "source": [
    "print country_state_combos.head()\n",
    "print country_state_combos.shape"
   ]
  },
  {
   "cell_type": "code",
   "execution_count": 12,
   "metadata": {
    "collapsed": false
   },
   "outputs": [
    {
     "name": "stdout",
     "output_type": "stream",
     "text": [
      "0.0% done\n",
      "0.05% done\n",
      "0.11% done\n",
      "\n",
      "99 uninhabited\n",
      "\n",
      "0.16% done\n",
      "0.22% done\n",
      "0.27% done\n",
      "\n",
      "197 location null\n",
      "\n",
      "0.33% done\n",
      "0.38% done\n",
      "\n",
      "267 uninhabited\n",
      "\n",
      "0.44% done\n",
      "\n",
      "316 timezone null\n",
      "\n",
      "\n",
      "323 timezone null\n",
      "\n",
      "0.5% done\n",
      "0.55% done\n",
      "\n",
      "362 uninhabited\n",
      "\n",
      "0.61% done\n",
      "0.66% done\n",
      "0.72% done\n",
      "0.77% done\n",
      "0.83% done\n",
      "0.88% done\n",
      "0.94% done\n",
      "\n",
      "636 location null\n",
      "\n"
     ]
    }
   ],
   "source": [
    "#pull timezones for each country - state pair\n",
    "#theres' a sleep call every time host cancels connection\n",
    "gn = Nominatim()\n",
    "\n",
    "if shapely_f:\n",
    "    tz = tzwhere.tzwhere(shapely=True, forceTZ=True)\n",
    "else:\n",
    "    tz = tzwhere.tzwhere()\n",
    "\n",
    "total_len = country_state_combos.shape[0]\n",
    "\n",
    "for i, row in enumerate(country_state_combos.itertuples()):\n",
    "    if i % 36 == 0:\n",
    "        print repr(float(i) / total_len)[:4] + \"% done\"\n",
    "    nulled = 0\n",
    "    if nan_check(row.state):\n",
    "        state = ''\n",
    "    else:\n",
    "        state = row.state\n",
    "\n",
    "    #get the location details\n",
    "    set = 0\n",
    "    while(set == 0):\n",
    "        try:\n",
    "            location = gn.geocode(row.country + ' ' + state)\n",
    "            set = 1\n",
    "            if location == None:\n",
    "                location = gn.geocode(row.country)\n",
    "                if location == None:\n",
    "                    nulled = 1\n",
    "                    print '\\n' + repr(i) + ' location null\\n'\n",
    "                    continue\n",
    "        except:\n",
    "            time.sleep(5)\n",
    "    if nulled == 1:\n",
    "        continue\n",
    "    #get the time zone details of the location\n",
    "    if shapely_f:\n",
    "        timezone_str = tz.tzNameAt(location.latitude, location.longitude, forceTZ=True)\n",
    "    else:\n",
    "        timezone_str = tz.tzNameAt(location.latitude, location.longitude)\n",
    "    if timezone_str == None:\n",
    "        location = gn.geocode(row.country)\n",
    "        if shapely_f:\n",
    "            timezone_str = tz.tzNameAt(location.latitude, location.longitude, forceTZ=True)\n",
    "        else:\n",
    "            timezone_str = tz.tzNameAt(location.latitude, location.longitude)\n",
    "        if timezone_str == None:\n",
    "            print '\\n' + repr(i) + ' timezone null\\n'\n",
    "            continue\n",
    "    if timezone_str == 'uninhabited':\n",
    "        print '\\n' + repr(i) + ' uninhabited\\n'\n",
    "        continue\n",
    "\n",
    "    #get the offset from UTC (offset 0)\n",
    "    pyt = timezone(timezone_str).localize(datetime(2016, 8, 1, 0, 00, 00))\n",
    "\n",
    "    #set the offset in the table\n",
    "    country_state_combos.set_value(i, 'offset', pyt.utcoffset().total_seconds())"
   ]
  },
  {
   "cell_type": "code",
   "execution_count": 13,
   "metadata": {
    "collapsed": true
   },
   "outputs": [],
   "source": [
    "#the only nulls, added manualy\n",
    "country_state_combos = country_state_combos.set_value(99, 'offset', -10*60*60)\n",
    "country_state_combos = country_state_combos.set_value(197, 'offset', 60*60)\n",
    "country_state_combos = country_state_combos.set_value(267, 'offset', 13*60*60)\n",
    "country_state_combos = country_state_combos.set_value(316, 'offset', 12*60*60)\n",
    "country_state_combos = country_state_combos.set_value(323, 'offset', 11*60*60)\n",
    "country_state_combos = country_state_combos.set_value(362, 'offset', 9*60*60)\n",
    "country_state_combos = country_state_combos.set_value(636, 'offset', -4*60*60)"
   ]
  },
  {
   "cell_type": "code",
   "execution_count": 14,
   "metadata": {
    "collapsed": false
   },
   "outputs": [
    {
     "data": {
      "text/html": [
       "<div>\n",
       "<table border=\"1\" class=\"dataframe\">\n",
       "  <thead>\n",
       "    <tr style=\"text-align: right;\">\n",
       "      <th></th>\n",
       "      <th>country</th>\n",
       "      <th>state</th>\n",
       "      <th>offset</th>\n",
       "    </tr>\n",
       "  </thead>\n",
       "  <tbody>\n",
       "    <tr>\n",
       "      <th>0</th>\n",
       "      <td>Afghanistan</td>\n",
       "      <td>-1</td>\n",
       "      <td>16200.0</td>\n",
       "    </tr>\n",
       "    <tr>\n",
       "      <th>1</th>\n",
       "      <td>Albania</td>\n",
       "      <td>-1</td>\n",
       "      <td>7200.0</td>\n",
       "    </tr>\n",
       "    <tr>\n",
       "      <th>2</th>\n",
       "      <td>Algeria</td>\n",
       "      <td>-1</td>\n",
       "      <td>3600.0</td>\n",
       "    </tr>\n",
       "    <tr>\n",
       "      <th>3</th>\n",
       "      <td>Algeria</td>\n",
       "      <td>Adrar</td>\n",
       "      <td>3600.0</td>\n",
       "    </tr>\n",
       "    <tr>\n",
       "      <th>4</th>\n",
       "      <td>Algeria</td>\n",
       "      <td>Biskra</td>\n",
       "      <td>3600.0</td>\n",
       "    </tr>\n",
       "  </tbody>\n",
       "</table>\n",
       "</div>"
      ],
      "text/plain": [
       "       country   state   offset\n",
       "0  Afghanistan      -1  16200.0\n",
       "1      Albania      -1   7200.0\n",
       "2      Algeria      -1   3600.0\n",
       "3      Algeria   Adrar   3600.0\n",
       "4      Algeria  Biskra   3600.0"
      ]
     },
     "execution_count": 14,
     "metadata": {},
     "output_type": "execute_result"
    }
   ],
   "source": [
    "country_state_combos.head()"
   ]
  },
  {
   "cell_type": "code",
   "execution_count": 15,
   "metadata": {
    "collapsed": false
   },
   "outputs": [
    {
     "data": {
      "text/plain": [
       "country    0\n",
       "state      0\n",
       "offset     0\n",
       "dtype: int64"
      ]
     },
     "execution_count": 15,
     "metadata": {},
     "output_type": "execute_result"
    }
   ],
   "source": [
    "country_state_combos.isnull().sum()"
   ]
  },
  {
   "cell_type": "code",
   "execution_count": 16,
   "metadata": {
    "collapsed": false
   },
   "outputs": [],
   "source": [
    "events_parsing = events_parsing.merge(country_state_combos, how='left', on=['country','state']).drop(events_parsing.columns[[2,3,4]], axis=1)"
   ]
  },
  {
   "cell_type": "code",
   "execution_count": 17,
   "metadata": {
    "collapsed": false
   },
   "outputs": [
    {
     "name": "stdout",
     "output_type": "stream",
     "text": [
      "   display_id  timestamp   offset\n",
      "0           1         61 -14400.0\n",
      "1           2         81 -25200.0\n",
      "2           3        182 -14400.0\n",
      "3           4        234 -14400.0\n",
      "4           5        338  28800.0\n",
      "   display_id  timestamp geo_location\n",
      "0           1         61    US>SC>519\n",
      "1           2         81    US>CA>807\n",
      "2           3        182    US>MI>505\n",
      "3           4        234    US>WV>564\n",
      "4           5        338        SG>00\n"
     ]
    }
   ],
   "source": [
    "print events_parsing.head()\n",
    "print events.head()"
   ]
  },
  {
   "cell_type": "code",
   "execution_count": 18,
   "metadata": {
    "collapsed": true
   },
   "outputs": [],
   "source": [
    "events = events.merge(events_parsing.drop('timestamp', axis = 1), how = 'left', on = 'display_id').drop('geo_location',axis = 1)\n",
    "#some of the offsets are nulls since there are some corrupt geo_locations\n",
    "events = events.fillna(0)"
   ]
  },
  {
   "cell_type": "code",
   "execution_count": 19,
   "metadata": {
    "collapsed": false
   },
   "outputs": [
    {
     "data": {
      "text/html": [
       "<div>\n",
       "<table border=\"1\" class=\"dataframe\">\n",
       "  <thead>\n",
       "    <tr style=\"text-align: right;\">\n",
       "      <th></th>\n",
       "      <th>display_id</th>\n",
       "      <th>timestamp</th>\n",
       "      <th>offset</th>\n",
       "    </tr>\n",
       "  </thead>\n",
       "  <tbody>\n",
       "    <tr>\n",
       "      <th>0</th>\n",
       "      <td>1</td>\n",
       "      <td>61</td>\n",
       "      <td>-14400.0</td>\n",
       "    </tr>\n",
       "    <tr>\n",
       "      <th>1</th>\n",
       "      <td>2</td>\n",
       "      <td>81</td>\n",
       "      <td>-25200.0</td>\n",
       "    </tr>\n",
       "    <tr>\n",
       "      <th>2</th>\n",
       "      <td>3</td>\n",
       "      <td>182</td>\n",
       "      <td>-14400.0</td>\n",
       "    </tr>\n",
       "    <tr>\n",
       "      <th>3</th>\n",
       "      <td>4</td>\n",
       "      <td>234</td>\n",
       "      <td>-14400.0</td>\n",
       "    </tr>\n",
       "    <tr>\n",
       "      <th>4</th>\n",
       "      <td>5</td>\n",
       "      <td>338</td>\n",
       "      <td>28800.0</td>\n",
       "    </tr>\n",
       "    <tr>\n",
       "      <th>5</th>\n",
       "      <td>6</td>\n",
       "      <td>395</td>\n",
       "      <td>-14400.0</td>\n",
       "    </tr>\n",
       "    <tr>\n",
       "      <th>6</th>\n",
       "      <td>7</td>\n",
       "      <td>602</td>\n",
       "      <td>-21600.0</td>\n",
       "    </tr>\n",
       "    <tr>\n",
       "      <th>7</th>\n",
       "      <td>8</td>\n",
       "      <td>638</td>\n",
       "      <td>-14400.0</td>\n",
       "    </tr>\n",
       "    <tr>\n",
       "      <th>8</th>\n",
       "      <td>9</td>\n",
       "      <td>667</td>\n",
       "      <td>-14400.0</td>\n",
       "    </tr>\n",
       "    <tr>\n",
       "      <th>9</th>\n",
       "      <td>10</td>\n",
       "      <td>693</td>\n",
       "      <td>-18000.0</td>\n",
       "    </tr>\n",
       "  </tbody>\n",
       "</table>\n",
       "</div>"
      ],
      "text/plain": [
       "   display_id  timestamp   offset\n",
       "0           1         61 -14400.0\n",
       "1           2         81 -25200.0\n",
       "2           3        182 -14400.0\n",
       "3           4        234 -14400.0\n",
       "4           5        338  28800.0\n",
       "5           6        395 -14400.0\n",
       "6           7        602 -21600.0\n",
       "7           8        638 -14400.0\n",
       "8           9        667 -14400.0\n",
       "9          10        693 -18000.0"
      ]
     },
     "execution_count": 19,
     "metadata": {},
     "output_type": "execute_result"
    }
   ],
   "source": [
    "events.head(10)"
   ]
  },
  {
   "cell_type": "code",
   "execution_count": 20,
   "metadata": {
    "collapsed": true
   },
   "outputs": [],
   "source": [
    "#add offset to timestamp as miliseconds\n",
    "events.timestamp = events.timestamp + (events.offset * 1000)\n",
    "\n",
    "#if timestamp is negative add a weeks' time\n",
    "events.loc[events['timestamp'] < 0, 'timestamp'] = events['timestamp'] + 1000*60*60*24*7"
   ]
  },
  {
   "cell_type": "code",
   "execution_count": 21,
   "metadata": {
    "collapsed": true
   },
   "outputs": [],
   "source": [
    "#converting timestamp field to hour and day\n",
    "events[\"hour\"] = (events.timestamp // (3600 * 1000)) % 24\n",
    "events[\"day\"] = events.timestamp // (3600 * 24 * 1000)"
   ]
  },
  {
   "cell_type": "code",
   "execution_count": 22,
   "metadata": {
    "collapsed": true
   },
   "outputs": [],
   "source": [
    "#adding weekend column\n",
    "#diving day hours to 4 sections to combine results of adjacent hours\n",
    "events[\"weekend\"] = events[\"morning\"] = events[\"noon\"] = events[\"evening\"] = events[\"night\"] = 0\n",
    "events.ix[events['day'].isin([4, 5, 11, 12]), 'weekend'] = 1\n",
    "events.ix[(events[\"hour\"] < 6) | (events[\"hour\"] > 23), \"night\"] = 1\n",
    "events.ix[(events[\"hour\"] >= 6) & (events[\"hour\"] < 12), \"morning\"] = 1\n",
    "events.ix[(events[\"hour\"] >= 12) & (events[\"hour\"] < 18), \"noon\"] = 1\n",
    "events.ix[(events[\"hour\"] >= 18) & (events[\"hour\"] <= 23), \"evening\"] = 1"
   ]
  },
  {
   "cell_type": "code",
   "execution_count": 23,
   "metadata": {
    "collapsed": false
   },
   "outputs": [
    {
     "name": "stdout",
     "output_type": "stream",
     "text": [
      "   display_id  weekend  morning  noon  evening  night\n",
      "0           1        0        0     0        1      0\n",
      "1           2        0        0     1        0      0\n",
      "2           3        0        0     0        1      0\n",
      "3           4        0        0     0        1      0\n",
      "4           5        0        1     0        0      0\n",
      "5           6        0        0     0        1      0\n",
      "6           7        0        0     0        1      0\n",
      "7           8        0        0     0        1      0\n",
      "8           9        0        0     0        1      0\n",
      "9          10        0        0     0        1      0\n"
     ]
    }
   ],
   "source": [
    "events.drop(['timestamp', 'hour', 'day','offset'], axis=1, inplace=True)\n",
    "print events.head(10)"
   ]
  },
  {
   "cell_type": "code",
   "execution_count": 24,
   "metadata": {
    "collapsed": true
   },
   "outputs": [],
   "source": [
    "events.to_csv(path_b + 'time_table.csv', index = False)"
   ]
  },
  {
   "cell_type": "code",
   "execution_count": null,
   "metadata": {
    "collapsed": true
   },
   "outputs": [],
   "source": []
  }
 ],
 "metadata": {
  "anaconda-cloud": {},
  "kernelspec": {
   "display_name": "Python [default]",
   "language": "python",
   "name": "python2"
  },
  "language_info": {
   "codemirror_mode": {
    "name": "ipython",
    "version": 2
   },
   "file_extension": ".py",
   "mimetype": "text/x-python",
   "name": "python",
   "nbconvert_exporter": "python",
   "pygments_lexer": "ipython2",
   "version": "2.7.12"
  }
 },
 "nbformat": 4,
 "nbformat_minor": 1
}
