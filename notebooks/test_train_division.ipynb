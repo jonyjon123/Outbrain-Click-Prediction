{
 "cells": [
  {
   "cell_type": "code",
   "execution_count": 1,
   "metadata": {
    "collapsed": false
   },
   "outputs": [],
   "source": [
    "import numpy as np\n",
    "import pandas as p\n",
    "\n",
    "#reduce original train and events to 1/5 its' size to not exceed 1gb limit on github\n",
    "#split clicks_train into train and test for good, since we havent the labels of clicks_test (original test)\n",
    "#split by timestamp, first 3/4 train, following 1/4 test, same as was in original train/test\n",
    "\n",
    "clicks_train = p.read_csv(\"/Users/astrachan/Desktop/history/clicks_train.csv\", dtype={\"display_id\": int, \"ad_id\": int, \"clicked\" : bool})"
   ]
  },
  {
   "cell_type": "code",
   "execution_count": 2,
   "metadata": {
    "collapsed": false
   },
   "outputs": [
    {
     "name": "stdout",
     "output_type": "stream",
     "text": [
      "   display_id   ad_id clicked\n",
      "0           1   42337   False\n",
      "1           1  139684   False\n",
      "2           1  144739    True\n",
      "3           1  156824   False\n",
      "4           1  279295   False\n"
     ]
    }
   ],
   "source": [
    "print clicks_train.head()"
   ]
  },
  {
   "cell_type": "code",
   "execution_count": 3,
   "metadata": {
    "collapsed": false
   },
   "outputs": [],
   "source": [
    "display_ids = clicks_train.groupby(['display_id'])['display_id'].agg({'count' : 'count'}).reset_index().drop('count',axis = 1)"
   ]
  },
  {
   "cell_type": "code",
   "execution_count": 4,
   "metadata": {
    "collapsed": false
   },
   "outputs": [
    {
     "name": "stdout",
     "output_type": "stream",
     "text": [
      "   display_id\n",
      "0           1\n",
      "1           2\n",
      "2           3\n",
      "3           4\n",
      "4           5\n"
     ]
    }
   ],
   "source": [
    "print display_ids.head()"
   ]
  },
  {
   "cell_type": "code",
   "execution_count": 5,
   "metadata": {
    "collapsed": false
   },
   "outputs": [],
   "source": [
    "reduction = display_ids.shape[0] / 5"
   ]
  },
  {
   "cell_type": "code",
   "execution_count": 6,
   "metadata": {
    "collapsed": false
   },
   "outputs": [],
   "source": [
    "split = reduction * 3 / 4"
   ]
  },
  {
   "cell_type": "code",
   "execution_count": 7,
   "metadata": {
    "collapsed": true
   },
   "outputs": [],
   "source": [
    "train = clicks_train.merge(display_ids[:split], how = 'inner', on = 'display_id')\n",
    "test = clicks_train.merge(display_ids[split:reduction], how = 'inner', on = 'display_id')"
   ]
  },
  {
   "cell_type": "code",
   "execution_count": 8,
   "metadata": {
    "collapsed": false
   },
   "outputs": [
    {
     "name": "stdout",
     "output_type": "stream",
     "text": [
      "          display_id   ad_id clicked\n",
      "13104204     2531187  192990   False\n",
      "13104205     2531187  252434   False\n",
      "13104206     2531188  213064   False\n",
      "13104207     2531188  220463   False\n",
      "13104208     2531188  371779    True\n",
      "   display_id   ad_id clicked\n",
      "0     2531189   89423    True\n",
      "1     2531189   93224   False\n",
      "2     2531189  176615   False\n",
      "3     2531189  187283   False\n",
      "4     2531190   73651   False\n",
      "(13104209, 3)\n",
      "(4329331, 3)\n"
     ]
    }
   ],
   "source": [
    "print train.tail()\n",
    "print test.head()\n",
    "print train.shape\n",
    "print test.shape"
   ]
  },
  {
   "cell_type": "code",
   "execution_count": 9,
   "metadata": {
    "collapsed": false
   },
   "outputs": [],
   "source": [
    "train.to_csv('/Users/astrachan/Desktop/ludast_outbrain/ludast_outbrain/source_tables/built/train.csv', index=False)\n",
    "test.to_csv('/Users/astrachan/Desktop/ludast_outbrain/ludast_outbrain/source_tables/built/test.csv', index=False)"
   ]
  },
  {
   "cell_type": "code",
   "execution_count": 10,
   "metadata": {
    "collapsed": false
   },
   "outputs": [],
   "source": [
    "#reduce events as well, not getting uuids since we don't use them and will also free some space\n",
    "events = p.read_csv(\"/Users/astrachan/Desktop/history/events.csv\", usecols = [\"display_id\", \"document_id\", \"timestamp\", \"platform\", \"geo_location\"], dtype={\"display_id\":int, \"document_id\":int, \"timestamp\":int, \"platform\":str, \"geo_location\":str})"
   ]
  },
  {
   "cell_type": "code",
   "execution_count": 11,
   "metadata": {
    "collapsed": false
   },
   "outputs": [
    {
     "data": {
      "text/html": [
       "<div>\n",
       "<table border=\"1\" class=\"dataframe\">\n",
       "  <thead>\n",
       "    <tr style=\"text-align: right;\">\n",
       "      <th></th>\n",
       "      <th>display_id</th>\n",
       "      <th>document_id</th>\n",
       "      <th>timestamp</th>\n",
       "      <th>platform</th>\n",
       "      <th>geo_location</th>\n",
       "    </tr>\n",
       "  </thead>\n",
       "  <tbody>\n",
       "    <tr>\n",
       "      <th>0</th>\n",
       "      <td>1</td>\n",
       "      <td>379743</td>\n",
       "      <td>61</td>\n",
       "      <td>3</td>\n",
       "      <td>US&gt;SC&gt;519</td>\n",
       "    </tr>\n",
       "    <tr>\n",
       "      <th>1</th>\n",
       "      <td>2</td>\n",
       "      <td>1794259</td>\n",
       "      <td>81</td>\n",
       "      <td>2</td>\n",
       "      <td>US&gt;CA&gt;807</td>\n",
       "    </tr>\n",
       "    <tr>\n",
       "      <th>2</th>\n",
       "      <td>3</td>\n",
       "      <td>1179111</td>\n",
       "      <td>182</td>\n",
       "      <td>2</td>\n",
       "      <td>US&gt;MI&gt;505</td>\n",
       "    </tr>\n",
       "    <tr>\n",
       "      <th>3</th>\n",
       "      <td>4</td>\n",
       "      <td>1777797</td>\n",
       "      <td>234</td>\n",
       "      <td>2</td>\n",
       "      <td>US&gt;WV&gt;564</td>\n",
       "    </tr>\n",
       "    <tr>\n",
       "      <th>4</th>\n",
       "      <td>5</td>\n",
       "      <td>252458</td>\n",
       "      <td>338</td>\n",
       "      <td>2</td>\n",
       "      <td>SG&gt;00</td>\n",
       "    </tr>\n",
       "  </tbody>\n",
       "</table>\n",
       "</div>"
      ],
      "text/plain": [
       "   display_id  document_id  timestamp platform geo_location\n",
       "0           1       379743         61        3    US>SC>519\n",
       "1           2      1794259         81        2    US>CA>807\n",
       "2           3      1179111        182        2    US>MI>505\n",
       "3           4      1777797        234        2    US>WV>564\n",
       "4           5       252458        338        2        SG>00"
      ]
     },
     "execution_count": 11,
     "metadata": {},
     "output_type": "execute_result"
    }
   ],
   "source": [
    "events.head()"
   ]
  },
  {
   "cell_type": "code",
   "execution_count": 12,
   "metadata": {
    "collapsed": true
   },
   "outputs": [],
   "source": [
    "events = events.merge(display_ids[:reduction], how = 'inner', on = 'display_id')"
   ]
  },
  {
   "cell_type": "code",
   "execution_count": 13,
   "metadata": {
    "collapsed": true
   },
   "outputs": [],
   "source": [
    "events.to_csv('/Users/astrachan/Desktop/ludast_outbrain/ludast_outbrain/source_tables/built/events.csv', index=False)"
   ]
  },
  {
   "cell_type": "code",
   "execution_count": null,
   "metadata": {
    "collapsed": true
   },
   "outputs": [],
   "source": []
  }
 ],
 "metadata": {
  "anaconda-cloud": {},
  "kernelspec": {
   "display_name": "Python [default]",
   "language": "python",
   "name": "python2"
  },
  "language_info": {
   "codemirror_mode": {
    "name": "ipython",
    "version": 2
   },
   "file_extension": ".py",
   "mimetype": "text/x-python",
   "name": "python",
   "nbconvert_exporter": "python",
   "pygments_lexer": "ipython2",
   "version": "2.7.12"
  }
 },
 "nbformat": 4,
 "nbformat_minor": 1
}
