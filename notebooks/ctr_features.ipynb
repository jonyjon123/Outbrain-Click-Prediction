{
 "cells": [
  {
   "cell_type": "code",
   "execution_count": 1,
   "metadata": {
    "collapsed": false
   },
   "outputs": [],
   "source": [
    "import numpy as np\n",
    "import pandas as p\n",
    "import os\n",
    "\n",
    "path = os.getcwd()\n",
    "path = path[:-path[::-1].index('/')]\n",
    "path_b = path + \"source_tables/built/\""
   ]
  },
  {
   "cell_type": "code",
   "execution_count": 2,
   "metadata": {
    "collapsed": false
   },
   "outputs": [],
   "source": [
    "#load needed tables\n",
    "train = p.read_csv(path_b + \"train.csv\", dtype={\"display_id\": int, \"ad_id\": int, \"clicked\" : bool})\n",
    "events = p.read_csv(path_b + \"events_prep.csv\", usecols = [0,1], dtype={\"display_id\": int, \"document_id\" : int})\n",
    "promoted_content = p.read_csv(path_b + \"promoted_content_prep.csv\", usecols = [0,1,2,3] , dtype = {\"ad_id\":int, \"document_id\":int, \"campaign_id\":int, \"advertiser_id\":int})"
   ]
  },
  {
   "cell_type": "code",
   "execution_count": 3,
   "metadata": {
    "collapsed": true
   },
   "outputs": [],
   "source": [
    "def ctr(df, over, name):\n",
    "    name = \"score_\" + name\n",
    "    to_drop1 = ['ads_on_doc','clicked','uni_chance','clicked_percent','clicked_percent_normalized','likelihood_normalized']\n",
    "    to_drop2 = ['total','like_mul_total_normalized']\n",
    "    #add expected chance of ad to be chosen [uni_chance]\n",
    "    df['uni_chance'] = 1 / df['ads_on_doc']\n",
    "    #add clicked precentage\n",
    "    df['clicked_percent'] = df['clicked'] / df['total']\n",
    "    #add normalized clicked precentage\n",
    "    df['clicked_percent_normalized'] = (df['clicked'] + 12 * df['clicked_percent'].mean()) / (12 + df['total'])\n",
    "    #create a likelihood column which shows how strong the actual \n",
    "    #clicked percentage is in relation to the uniform chance, added regularization\n",
    "    #normalized likelihood\n",
    "    df['likelihood_normalized'] = df['clicked_percent_normalized'] / df['uni_chance']\n",
    "    #on the way to adding together same pairs with different ad_on_doc\n",
    "    df['like_mul_total_normalized'] = df['likelihood_normalized'] * df['total']\n",
    "    #get scores for the pairs ad_document_id document_id grouped over the ad_on_doc\n",
    "    df = df.drop(to_drop1,axis = 1).groupby(over).sum().reset_index()\n",
    "    df[name] = df['like_mul_total_normalized'] / df['total']\n",
    "    df.drop(to_drop2,axis = 1, inplace=True)\n",
    "    df.sort_values(name,inplace=True, ascending=False)\n",
    "    return df"
   ]
  },
  {
   "cell_type": "code",
   "execution_count": 4,
   "metadata": {
    "collapsed": false
   },
   "outputs": [
    {
     "name": "stdout",
     "output_type": "stream",
     "text": [
      "   display_id   ad_id clicked\n",
      "0           1   42337   False\n",
      "1           1  139684   False\n",
      "2           1  144739    True\n",
      "3           1  156824   False\n",
      "4           1  279295   False\n",
      "   display_id  document_id\n",
      "0           1       379743\n",
      "1           2      1794259\n",
      "2           3      1179111\n",
      "3           4      1777797\n",
      "4           5       252458\n",
      "   ad_id  ad_document_id  campaign_id  advertiser_id\n",
      "0      1            6614            1              7\n",
      "1      2          471467            2              7\n",
      "2      3            7692            3              7\n",
      "3      4          471471            2              7\n",
      "4      5          471472            2              7\n"
     ]
    }
   ],
   "source": [
    "print train.head()\n",
    "print events.head()\n",
    "print promoted_content.head()"
   ]
  },
  {
   "cell_type": "code",
   "execution_count": 5,
   "metadata": {
    "collapsed": false
   },
   "outputs": [],
   "source": [
    "#add number of ads on display\n",
    "train_ad_count_per_display = train.groupby(['display_id'])['display_id'].agg({'ads_on_doc' : 'count'}).reset_index()\n",
    "train = train.merge(train_ad_count_per_display, how = 'left', on = 'display_id')\n",
    "del train_ad_count_per_display"
   ]
  },
  {
   "cell_type": "code",
   "execution_count": 6,
   "metadata": {
    "collapsed": false
   },
   "outputs": [],
   "source": [
    "#add the document_id of the display\n",
    "train = train.merge(events, how = 'left', on = 'display_id')\n",
    "#add the document_id describing ad\n",
    "train = train.merge(promoted_content, how = 'left', on = 'ad_id')"
   ]
  },
  {
   "cell_type": "code",
   "execution_count": 7,
   "metadata": {
    "collapsed": false
   },
   "outputs": [
    {
     "name": "stdout",
     "output_type": "stream",
     "text": [
      "   display_id   ad_id clicked  ads_on_doc  document_id  ad_document_id  \\\n",
      "0           1   42337   False           6       379743          938164   \n",
      "1           1  139684   False           6       379743         1085937   \n",
      "2           1  144739    True           6       379743         1337362   \n",
      "3           1  156824   False           6       379743          992370   \n",
      "4           1  279295   False           6       379743         1670176   \n",
      "\n",
      "   campaign_id  advertiser_id  \n",
      "0         5969           1499  \n",
      "1        17527           2563  \n",
      "2        18488           2909  \n",
      "3         7283           1919  \n",
      "4        27524           1820  \n"
     ]
    }
   ],
   "source": [
    "print train.head()"
   ]
  },
  {
   "cell_type": "code",
   "execution_count": 8,
   "metadata": {
    "collapsed": false
   },
   "outputs": [],
   "source": [
    "#normalized CTR of ad alone\n",
    "ad_ctr = train.groupby(['ad_id','ads_on_doc']).clicked.agg({'clicked' : 'sum', 'total' : 'count'}).reset_index()\n",
    "#normalized CTR of ad alone\n",
    "ad_document_ctr = train.groupby(['ad_document_id','ads_on_doc']).clicked.agg({'clicked' : 'sum', 'total' : 'count'}).reset_index()\n",
    "#normalized CTR of document coupled with ad \n",
    "document_on_ad_ctr = train.groupby(['document_id','ad_id','ads_on_doc']).clicked.agg({'clicked' : 'sum', 'total' : 'count'}).reset_index()\n",
    "#normalized CTR of document coupled with ads' document\n",
    "document_on_ad_document_ctr = train.groupby(['document_id','ad_document_id','ads_on_doc']).clicked.agg({'clicked' : 'sum', 'total' : 'count'}).reset_index()\n",
    "#normalized CTR of advertiser alone\n",
    "advertiser_ctr = train.groupby(['advertiser_id','ads_on_doc']).clicked.agg({'clicked' : 'sum', 'total' : 'count'}).reset_index()\n",
    "#normalized CTR of campaign alone\n",
    "campaign_ctr = train.groupby(['campaign_id','ads_on_doc']).clicked.agg({'clicked' : 'sum', 'total' : 'count'}).reset_index()\n",
    "#normalized CTR of advertiser coupled with ad\n",
    "document_on_advertiser_ctr = train.groupby(['advertiser_id','ads_on_doc','document_id']).clicked.agg({'clicked' : 'sum', 'total' : 'count'}).reset_index()\n",
    "#normalized CTR of campaign coupled with ad\n",
    "document_on_campaign_ctr = train.groupby(['campaign_id','ads_on_doc','document_id']).clicked.agg({'clicked' : 'sum', 'total' : 'count'}).reset_index()"
   ]
  },
  {
   "cell_type": "code",
   "execution_count": 9,
   "metadata": {
    "collapsed": false
   },
   "outputs": [
    {
     "name": "stdout",
     "output_type": "stream",
     "text": [
      "   ad_id  ads_on_doc  total  clicked\n",
      "0      1           3      1      0.0\n",
      "1      3           6      1      0.0\n",
      "2      3           8     88      5.0\n",
      "3      4           4      8      1.0\n",
      "4      4           6      5      1.0\n",
      "   ad_document_id  ads_on_doc  total  clicked\n",
      "0               1           4      1      0.0\n",
      "1               1           8      1      0.0\n",
      "2            2388           2      9      4.0\n",
      "3            2388           3     15      5.0\n",
      "4            2388           4    103     16.0\n",
      "   document_id  ad_id  ads_on_doc  total  clicked\n",
      "0           12   5475           4      2      0.0\n",
      "1           12   6821           4      1      0.0\n",
      "2           12  11283           4      1      0.0\n",
      "3           12  20922           4      2      1.0\n",
      "4           12  23595           4      2      0.0\n",
      "   document_id  ad_document_id  ads_on_doc  total  clicked\n",
      "0           12          331537           4      1      0.0\n",
      "1           12          421022           4      2      0.0\n",
      "2           12          466331           4      2      0.0\n",
      "3           12          478882           4      1      0.0\n",
      "4           12          500432           4      1      0.0\n",
      "   advertiser_id  ads_on_doc  total  clicked\n",
      "0              2           3      1      0.0\n",
      "1              2           4      4      0.0\n",
      "2              2           5      1      0.0\n",
      "3              2           6      8      2.0\n",
      "4              3           2      8      2.0\n",
      "   campaign_id  ads_on_doc  total  clicked\n",
      "0            1           2      1      1.0\n",
      "1            1           3     27      3.0\n",
      "2            1           4    147     25.0\n",
      "3            1           5    384    122.0\n",
      "4            1           6    101     15.0\n",
      "   advertiser_id  ads_on_doc  document_id  total  clicked\n",
      "0              2           3       496440      1      0.0\n",
      "1              2           4      1822360      1      0.0\n",
      "2              2           4      1883393      1      0.0\n",
      "3              2           4      1908832      1      0.0\n",
      "4              2           4      1944389      1      0.0\n",
      "   campaign_id  ads_on_doc  document_id  total  clicked\n",
      "0            1           2      1760688      1      1.0\n",
      "1            1           3       151090      1      0.0\n",
      "2            1           3      1061769      1      0.0\n",
      "3            1           3      1146335      1      0.0\n",
      "4            1           3      1179111      1      0.0\n"
     ]
    }
   ],
   "source": [
    "print ad_ctr.head()\n",
    "print ad_document_ctr.head()\n",
    "print document_on_ad_ctr.head()\n",
    "print document_on_ad_document_ctr.head()\n",
    "print advertiser_ctr.head()\n",
    "print campaign_ctr.head()\n",
    "print document_on_advertiser_ctr.head()\n",
    "print document_on_campaign_ctr.head()"
   ]
  },
  {
   "cell_type": "code",
   "execution_count": 10,
   "metadata": {
    "collapsed": false
   },
   "outputs": [
    {
     "name": "stdout",
     "output_type": "stream",
     "text": [
      "         ad_id  score_ad\n",
      "14196    39068  4.801153\n",
      "98529   257136  4.693780\n",
      "74810   203377  4.244036\n",
      "66977   184611  4.223643\n",
      "123254  309026  4.110138\n"
     ]
    }
   ],
   "source": [
    "ad_ctr = ctr(ad_ctr, ['ad_id'], 'ad')\n",
    "print ad_ctr.head()"
   ]
  },
  {
   "cell_type": "code",
   "execution_count": 11,
   "metadata": {
    "collapsed": true
   },
   "outputs": [],
   "source": [
    "ad_ctr.to_csv(path + 'source_tables/built/ad_ctr.csv', index = False)"
   ]
  },
  {
   "cell_type": "code",
   "execution_count": 12,
   "metadata": {
    "collapsed": false
   },
   "outputs": [
    {
     "name": "stdout",
     "output_type": "stream",
     "text": [
      "       ad_document_id  score_ad_doc\n",
      "10152          911959      4.802587\n",
      "8872           866507      3.839586\n",
      "32659         1439819      3.792161\n",
      "18043         1112611      3.707800\n",
      "6032           735282      3.611745\n"
     ]
    }
   ],
   "source": [
    "ad_document_ctr = ctr(ad_document_ctr, ['ad_document_id'], 'ad_doc')\n",
    "print ad_document_ctr.head()"
   ]
  },
  {
   "cell_type": "code",
   "execution_count": 13,
   "metadata": {
    "collapsed": true
   },
   "outputs": [],
   "source": [
    "ad_document_ctr.to_csv(path + 'source_tables/built/ad_document_ctr.csv', index = False)"
   ]
  },
  {
   "cell_type": "code",
   "execution_count": 14,
   "metadata": {
    "collapsed": false
   },
   "outputs": [
    {
     "name": "stdout",
     "output_type": "stream",
     "text": [
      "         document_id   ad_id  score_docXad\n",
      "1524032      1035814  263141      8.695825\n",
      "1403805       961313  234107      7.334829\n",
      "1404863       961361  132019      7.294726\n",
      "1402587       961255  234107      6.753868\n",
      "2749540      1675109  165380      6.725582\n"
     ]
    }
   ],
   "source": [
    "document_on_ad_ctr = ctr(document_on_ad_ctr, ['document_id', 'ad_id'], 'docXad')\n",
    "print document_on_ad_ctr.head()"
   ]
  },
  {
   "cell_type": "code",
   "execution_count": 15,
   "metadata": {
    "collapsed": true
   },
   "outputs": [],
   "source": [
    "document_on_ad_ctr.to_csv(path + 'source_tables/built/document_on_ad_ctr.csv', index=False)"
   ]
  },
  {
   "cell_type": "code",
   "execution_count": 16,
   "metadata": {
    "collapsed": false
   },
   "outputs": [
    {
     "name": "stdout",
     "output_type": "stream",
     "text": [
      "         document_id  ad_document_id  score_docXad_doc\n",
      "1412409      1035814         1637653          8.699057\n",
      "1301828       961313         1585630          7.336971\n",
      "1302656       961361         1290377          7.295931\n",
      "1300824       961255         1585630          6.758153\n",
      "2516629      1675109         1378725          6.728123\n"
     ]
    }
   ],
   "source": [
    "document_on_ad_document_ctr = ctr(document_on_ad_document_ctr, ['document_id', 'ad_document_id'], 'docXad_doc')\n",
    "print document_on_ad_document_ctr.head()"
   ]
  },
  {
   "cell_type": "code",
   "execution_count": 17,
   "metadata": {
    "collapsed": true
   },
   "outputs": [],
   "source": [
    "document_on_ad_document_ctr.to_csv(path + 'source_tables/built/document_on_ad_document_ctr.csv', index=False)"
   ]
  },
  {
   "cell_type": "code",
   "execution_count": 18,
   "metadata": {
    "collapsed": false
   },
   "outputs": [
    {
     "name": "stdout",
     "output_type": "stream",
     "text": [
      "      advertiser_id  score_adv\n",
      "1296           1672   3.514151\n",
      "2394           3085   3.480352\n",
      "2505           3246   3.299548\n",
      "2050           2636   3.298055\n",
      "370             450   3.006866\n"
     ]
    }
   ],
   "source": [
    "advertiser_ctr = ctr(advertiser_ctr, ['advertiser_id'], 'adv')\n",
    "print advertiser_ctr.head()"
   ]
  },
  {
   "cell_type": "code",
   "execution_count": 19,
   "metadata": {
    "collapsed": true
   },
   "outputs": [],
   "source": [
    "advertiser_ctr.to_csv(path + 'source_tables/built/advertiser_ctr.csv', index = False)"
   ]
  },
  {
   "cell_type": "code",
   "execution_count": 20,
   "metadata": {
    "collapsed": false
   },
   "outputs": [
    {
     "name": "stdout",
     "output_type": "stream",
     "text": [
      "       campaign_id  score_camp\n",
      "19264        26479    4.709153\n",
      "13231        18464    4.106349\n",
      "16919        23516    3.981440\n",
      "20295        27793    3.854357\n",
      "12561        17238    3.835266\n"
     ]
    }
   ],
   "source": [
    "campaign_ctr = ctr(campaign_ctr, ['campaign_id'], 'camp')\n",
    "print campaign_ctr.head()"
   ]
  },
  {
   "cell_type": "code",
   "execution_count": 21,
   "metadata": {
    "collapsed": true
   },
   "outputs": [],
   "source": [
    "campaign_ctr.to_csv(path + 'source_tables/built/campaign_ctr.csv', index = False)"
   ]
  },
  {
   "cell_type": "code",
   "execution_count": 22,
   "metadata": {
    "collapsed": false
   },
   "outputs": [
    {
     "name": "stdout",
     "output_type": "stream",
     "text": [
      "         document_id  advertiser_id  score_docXadv\n",
      "1046047       961313           2980       7.343695\n",
      "1046500       961361           2506       7.235490\n",
      "1045495       961255           2980       6.771601\n",
      "1979145      1675109           2007       6.565584\n",
      "347891        332268           3283       6.411945\n"
     ]
    }
   ],
   "source": [
    "document_on_advertiser_ctr = ctr(document_on_advertiser_ctr, ['document_id', 'advertiser_id'], 'docXadv')\n",
    "print document_on_advertiser_ctr.head()"
   ]
  },
  {
   "cell_type": "code",
   "execution_count": 23,
   "metadata": {
    "collapsed": false
   },
   "outputs": [],
   "source": [
    "document_on_advertiser_ctr.to_csv(path + 'source_tables/built/document_on_advertiser_ctr.csv', index = False)"
   ]
  },
  {
   "cell_type": "code",
   "execution_count": 24,
   "metadata": {
    "collapsed": false
   },
   "outputs": [
    {
     "name": "stdout",
     "output_type": "stream",
     "text": [
      "         document_id  campaign_id  score_docXcamp\n",
      "1234496       961313        25460        7.337785\n",
      "1235188       961361        16942        7.296388\n",
      "1233638       961255        25460        6.759781\n",
      "2391412      1675109        20586        6.729089\n",
      "2435011      1687168        20586        6.413736\n"
     ]
    }
   ],
   "source": [
    "document_on_campaign_ctr = ctr(document_on_campaign_ctr, ['document_id', 'campaign_id'], 'docXcamp')\n",
    "print document_on_campaign_ctr.head()"
   ]
  },
  {
   "cell_type": "code",
   "execution_count": 25,
   "metadata": {
    "collapsed": true
   },
   "outputs": [],
   "source": [
    "document_on_campaign_ctr.to_csv(path + 'source_tables/built/document_on_campaign_ctr.csv', index = False)"
   ]
  },
  {
   "cell_type": "code",
   "execution_count": null,
   "metadata": {
    "collapsed": true
   },
   "outputs": [],
   "source": []
  }
 ],
 "metadata": {
  "anaconda-cloud": {},
  "kernelspec": {
   "display_name": "Python [default]",
   "language": "python",
   "name": "python2"
  },
  "language_info": {
   "codemirror_mode": {
    "name": "ipython",
    "version": 2
   },
   "file_extension": ".py",
   "mimetype": "text/x-python",
   "name": "python",
   "nbconvert_exporter": "python",
   "pygments_lexer": "ipython2",
   "version": "2.7.12"
  }
 },
 "nbformat": 4,
 "nbformat_minor": 1
}
