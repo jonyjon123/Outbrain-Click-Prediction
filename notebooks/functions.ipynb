{
 "cells": [
  {
   "cell_type": "code",
   "execution_count": null,
   "metadata": {
    "collapsed": true
   },
   "outputs": [],
   "source": [
    "import numpy as np\n",
    "import pandas as p"
   ]
  },
  {
   "cell_type": "code",
   "execution_count": null,
   "metadata": {
    "collapsed": true
   },
   "outputs": [],
   "source": [
    "#scoring function calculating portion of correct display ids predictions\n",
    "def score_portion(val_copy):\n",
    "    max_rows = val_copy.groupby(['display_id'])['predict'].transform(max) == val_copy['predict']\n",
    "    final = val_copy[max_rows]\n",
    "    success = final[final['clicked'] == True]\n",
    "    score = float(len(success)) / float(len(final))\n",
    "    print(\"PORTION: %.12f\" % score)\n",
    "    return score"
   ]
  },
  {
   "cell_type": "code",
   "execution_count": null,
   "metadata": {
    "collapsed": true
   },
   "outputs": [],
   "source": [
    "#scoring function taking in consideration the distance of right ad from 1st position\n",
    "def score_map(val_copy):\n",
    "    val_copy.sort_values(['display_id', 'predict'], inplace=True, ascending=[True, False] )\n",
    "    val_copy[\"seq\"] = np.arange(val_copy.shape[0])\n",
    "    Y_seq = val_copy[val_copy.clicked == 1].seq.values\n",
    "    Y_first = val_copy[['display_id', 'seq']].drop_duplicates(subset='display_id', keep='first').seq.values\n",
    "    Y_ranks = Y_seq - Y_first\n",
    "    score = np.mean(1.0 / (1.0 + Y_ranks))\n",
    "    print(\"MAP: %.12f\" % score)\n",
    "    return score"
   ]
  },
  {
   "cell_type": "code",
   "execution_count": null,
   "metadata": {
    "collapsed": true
   },
   "outputs": [],
   "source": [
    "#get random part of train for fast computing and testing\n",
    "def fractioned(train, test, fraction):\n",
    "    display_ids = train.groupby(['display_id'])['display_id'].agg({'count' : 'count'}).reset_index().drop('count',axis = 1)\n",
    "    chosen_displays = display_ids.sample(frac = fraction)\n",
    "    train = chosen_displays.merge(train, how = 'inner', on = 'display_id')\n",
    "\n",
    "    #same for test\n",
    "    display_ids = test.groupby(['display_id'])['display_id'].agg({'count' : 'count'}).reset_index().drop('count',axis = 1)\n",
    "    chosen_displays = display_ids.sample(frac = fraction)\n",
    "    test = chosen_displays.merge(test, how = 'inner', on = 'display_id')\n",
    "    return train, test"
   ]
  },
  {
   "cell_type": "code",
   "execution_count": null,
   "metadata": {
    "collapsed": true
   },
   "outputs": [],
   "source": [
    "#get a correlation score of the ads document topic on the displays document topic, and same for the category\n",
    "def correlations(train, test, top_dict, cat_dict):\n",
    "    dictionary, id_ad, id_doc, confi_ad, confi_doc, corel = top_dict, 'topic_id_ad', 'topic_id_doc', 'confi_top_ad', 'confi_top_doc', 'cor_top'\n",
    "\n",
    "    for i in range(2):\n",
    "        #get all pairs of topic/category of ad document and displays document, from train and test\n",
    "        correlations = train[[id_ad,id_doc]].groupby([id_ad,id_doc]).count().reset_index()\n",
    "        correlations = correlations.merge(test[[id_ad,id_doc]].groupby([id_ad,id_doc]).count().reset_index(), how = 'outer', on = [id_ad,id_doc])\n",
    "\n",
    "        #order these pairs in tuples for dictionary use\n",
    "        correlations['tup'] = list(zip(correlations[id_ad], correlations[id_doc]))\n",
    "\n",
    "        #get the correlation scores through the dictionary\n",
    "        correlations[corel] = correlations['tup'].map(dictionary)\n",
    "\n",
    "        #remove tup column\n",
    "        correlations.drop('tup',axis = 1,inplace=True)\n",
    "\n",
    "        #fill NAs with median\n",
    "        correlations = correlations.fillna(correlations[corel].median())\n",
    "\n",
    "        #merge these correlations with train and test\n",
    "        train = train.merge(correlations, how = 'left', on = [id_ad,id_doc])\n",
    "        test = test.merge(correlations, how = 'left', on = [id_ad,id_doc])\n",
    "\n",
    "        #multiply the correlation by confidence scores of ad and doc\n",
    "        train[corel] = train[corel] * train[confi_ad] * train[confi_doc]\n",
    "        test[corel] = test[corel] * test[confi_ad] * test[confi_doc]\n",
    "\n",
    "        #do the same now for the categories on next loop\n",
    "        dictionary, id_ad, id_doc, confi_ad, confi_doc, corel = cat_dict, 'category_id_ad', 'category_id_doc', 'confi_cat_ad', 'confi_cat_doc', 'cor_cat'\n",
    "    return train, test"
   ]
  },
  {
   "cell_type": "code",
   "execution_count": null,
   "metadata": {
    "collapsed": true
   },
   "outputs": [],
   "source": []
  }
 ],
 "metadata": {
  "anaconda-cloud": {},
  "kernelspec": {
   "display_name": "Python [default]",
   "language": "python",
   "name": "python2"
  },
  "language_info": {
   "codemirror_mode": {
    "name": "ipython",
    "version": 2
   },
   "file_extension": ".py",
   "mimetype": "text/x-python",
   "name": "python",
   "nbconvert_exporter": "python",
   "pygments_lexer": "ipython2",
   "version": "2.7.12"
  }
 },
 "nbformat": 4,
 "nbformat_minor": 1
}
