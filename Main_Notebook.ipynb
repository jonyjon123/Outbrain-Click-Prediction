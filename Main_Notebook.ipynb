{
 "cells": [
  {
   "cell_type": "markdown",
   "metadata": {
    "collapsed": false
   },
   "source": [
    "# Outbrain Click Prediction\n",
    "\n",
    "## 1. Data Preparation and Cleaning\n",
    "\n",
    "### Import Python Libraries"
   ]
  },
  {
   "cell_type": "code",
   "execution_count": 86,
   "metadata": {
    "collapsed": true
   },
   "outputs": [],
   "source": [
    "import os\n",
    "import numpy as np\n",
    "import pandas as p\n",
    "import pickle\n",
    "import zipfile\n",
    "from sklearn.linear_model import LogisticRegression"
   ]
  },
  {
   "cell_type": "markdown",
   "metadata": {},
   "source": [
    "#### Get metadata and functions utils"
   ]
  },
  {
   "cell_type": "code",
   "execution_count": null,
   "metadata": {
    "collapsed": false
   },
   "outputs": [],
   "source": [
    "path = os.getcwd() + \"/\"\n",
    "utils_path = path + \"utils/\"\n",
    "meta = utils_path + \"meta.py\"\n",
    "functions = utils_path + \"functions.py\"\n",
    "%run $meta\n",
    "%run $functions"
   ]
  },
  {
   "cell_type": "markdown",
   "metadata": {},
   "source": [
    "### Unzip source tables"
   ]
  },
  {
   "cell_type": "code",
   "execution_count": 3,
   "metadata": {
    "collapsed": true
   },
   "outputs": [],
   "source": [
    "#added unzip boolean so if they run it twice they dont have to unzip..\n",
    "unzip = False\n",
    "if unzip:\n",
    "    zip_ref = zipfile.ZipFile(data_tables, 'r')\n",
    "    zip_ref.extractall(tables_path)\n",
    "    zip_ref.close()"
   ]
  },
  {
   "cell_type": "markdown",
   "metadata": {},
   "source": [
    "### Load Train & Test"
   ]
  },
  {
   "cell_type": "code",
   "execution_count": 4,
   "metadata": {
    "collapsed": false
   },
   "outputs": [
    {
     "name": "stdout",
     "output_type": "stream",
     "text": [
      "   display_id   ad_id clicked\n",
      "0           1   42337   False\n",
      "1           1  139684   False\n",
      "2           1  144739    True\n",
      "3           1  156824   False\n",
      "4           1  279295   False\n"
     ]
    }
   ],
   "source": [
    "train = p.read_csv(tables_path + \"train.csv\")\n",
    "test = p.read_csv(tables_path + \"test.csv\")\n",
    "\n",
    "print (train.head())"
   ]
  },
  {
   "cell_type": "markdown",
   "metadata": {},
   "source": [
    "#### Choose \"fraction\" of train & test for training  & predicting"
   ]
  },
  {
   "cell_type": "code",
   "execution_count": 5,
   "metadata": {
    "collapsed": false
   },
   "outputs": [
    {
     "name": "stdout",
     "output_type": "stream",
     "text": [
      "(1312040, 3)\n",
      "(434169, 3)\n"
     ]
    }
   ],
   "source": [
    "#set size of fraction to take from train and test, for full tables, fraction = 0\n",
    "fraction = 0.1\n",
    "\n",
    "if fraction:\n",
    "    train, test = fractioned(train,test,fraction)\n",
    "    print (train.shape)\n",
    "    print (test.shape)"
   ]
  },
  {
   "cell_type": "markdown",
   "metadata": {},
   "source": [
    "### Prepare platform table\n",
    "#### 1. Impute missing values with median\n",
    "#### 2. Create one-hot"
   ]
  },
  {
   "cell_type": "code",
   "execution_count": 6,
   "metadata": {
    "collapsed": false
   },
   "outputs": [
    {
     "name": "stdout",
     "output_type": "stream",
     "text": [
      "   display_id  document_id  plat_1  plat_2  plat_3\n",
      "0           1       379743       0       0       1\n",
      "1           2      1794259       0       1       0\n",
      "2           3      1179111       0       1       0\n",
      "3           4      1777797       0       1       0\n",
      "4           5       252458       0       1       0\n"
     ]
    }
   ],
   "source": [
    "skip_computation = True\n",
    "\n",
    "if (not skip_computation):\n",
    "    platform_prep = features_path + \"platform_prep.py\"\n",
    "    %run $platform_prep\n",
    "\n",
    "platform = p.read_csv(tables_path + \"platform.csv\")\n",
    "print (platform.head())"
   ]
  },
  {
   "cell_type": "markdown",
   "metadata": {},
   "source": [
    "### Prepare topics & categories table\n",
    "#### 1. Merge categories, topics tables\n",
    "#### 2. For each document - leave only topic/category with the highest confidence level\n",
    "#### 3. Impute missing documents with value -1 (assign confidence 0) and cast id's back to integer"
   ]
  },
  {
   "cell_type": "code",
   "execution_count": 7,
   "metadata": {
    "collapsed": false
   },
   "outputs": [
    {
     "name": "stdout",
     "output_type": "stream",
     "text": [
      "   document_id  topic_id  confi_top  category_id  confi_cat\n",
      "0      1595802       140   0.073113         1611   0.920000\n",
      "1      1524246       113   0.196450         1807   0.920000\n",
      "2      1617787       113   0.216892         1807   0.920000\n",
      "3      1615583        89   0.316306         1305   0.920000\n",
      "4      1615460       260   0.097964         1613   0.540646\n"
     ]
    }
   ],
   "source": [
    "skip_computation = True\n",
    "\n",
    "if (not skip_computation):\n",
    "    topics_categories_prep = features_path + \"topics_categories_prep.py\"\n",
    "    %run $topics_categories_prep\n",
    "    \n",
    "topics_categories = p.read_csv(tables_path + \"topics_categories.csv\")\n",
    "print (topics_categories.head())"
   ]
  },
  {
   "cell_type": "markdown",
   "metadata": {},
   "source": [
    "### Prepare Promoted Content table\n",
    "#### 1. Merge with topics_categories table\n",
    "#### 2. Impute missing documents with -1 (assign confidence 0) and cast id's back to integer"
   ]
  },
  {
   "cell_type": "code",
   "execution_count": 8,
   "metadata": {
    "collapsed": false
   },
   "outputs": [
    {
     "name": "stdout",
     "output_type": "stream",
     "text": [
      "   ad_id  ad_document_id  campaign_id  advertiser_id  topic_id  confi_top  \\\n",
      "0      1            6614            1              7        -1   0.000000   \n",
      "1      2          471467            2              7        89   0.122998   \n",
      "2      3            7692            3              7        26   0.104300   \n",
      "3      4          471471            2              7       168   0.076367   \n",
      "4      5          471472            2              7       143   0.089059   \n",
      "\n",
      "   category_id  confi_cat  \n",
      "0         1209   0.925264  \n",
      "1         1505   0.920000  \n",
      "2         1209   0.920000  \n",
      "3         1205   0.920000  \n",
      "4         1608   0.920000  \n"
     ]
    }
   ],
   "source": [
    "skip_computation = True\n",
    "\n",
    "if (not skip_computation):\n",
    "    promoted_prep = features_path + \"promoted_content_prep.py\"\n",
    "    %run $promoted_prep\n",
    "\n",
    "promoted = p.read_csv(tables_path + \"promoted_content_prep.csv\")\n",
    "print (promoted.head())"
   ]
  },
  {
   "cell_type": "markdown",
   "metadata": {},
   "source": [
    "### Merge all tables with train & test"
   ]
  },
  {
   "cell_type": "code",
   "execution_count": 9,
   "metadata": {
    "collapsed": false
   },
   "outputs": [
    {
     "name": "stdout",
     "output_type": "stream",
     "text": [
      "   display_id   ad_id clicked  document_id  plat_1  plat_2  plat_3\n",
      "0          35  180913   False      1271578       0       0       1\n",
      "1          35   45024   False      1271578       0       0       1\n",
      "2          35  289116    True      1271578       0       0       1\n",
      "3          37  234713    True      1779285       0       1       0\n",
      "4          37  235443   False      1779285       0       1       0\n"
     ]
    }
   ],
   "source": [
    "train = train.merge(platform, how='left', on='display_id')\n",
    "test = test.merge(platform, how='left', on='display_id')\n",
    "del platform\n",
    "\n",
    "print (train.head())"
   ]
  },
  {
   "cell_type": "code",
   "execution_count": 10,
   "metadata": {
    "collapsed": false
   },
   "outputs": [
    {
     "name": "stdout",
     "output_type": "stream",
     "text": [
      "   display_id   ad_id clicked  document_id  plat_1  plat_2  plat_3  \\\n",
      "0          35  180913   False      1271578       0       0       1   \n",
      "1          35   45024   False      1271578       0       0       1   \n",
      "2          35  289116    True      1271578       0       0       1   \n",
      "3          37  234713    True      1779285       0       1       0   \n",
      "4          37  235443   False      1779285       0       1       0   \n",
      "\n",
      "   ad_document_id  campaign_id  advertiser_id  topic_id  confi_top  \\\n",
      "0         1151028          674            769        16   0.172854   \n",
      "1          923095         5762            551       136   0.464029   \n",
      "2         1687165        28025           3899       125   0.041293   \n",
      "3         1586431          245            232       163   0.369382   \n",
      "4         1377696        11654            555       284   0.263319   \n",
      "\n",
      "   category_id  confi_cat  \n",
      "0         1702   0.920000  \n",
      "1         1403   0.920000  \n",
      "2         2100   0.356819  \n",
      "3         1403   0.920000  \n",
      "4         1206   0.920000  \n"
     ]
    }
   ],
   "source": [
    "train = train.merge(promoted,how = 'left',on = 'ad_id')\n",
    "test = test.merge(promoted,how = 'left',on = 'ad_id')\n",
    "del promoted\n",
    "\n",
    "print (train.head())"
   ]
  },
  {
   "cell_type": "code",
   "execution_count": 11,
   "metadata": {
    "collapsed": false
   },
   "outputs": [
    {
     "name": "stdout",
     "output_type": "stream",
     "text": [
      "   display_id   ad_id clicked  document_id  plat_1  plat_2  plat_3  \\\n",
      "0          35  180913   False      1271578       0       0       1   \n",
      "1          35   45024   False      1271578       0       0       1   \n",
      "2          35  289116    True      1271578       0       0       1   \n",
      "3          37  234713    True      1779285       0       1       0   \n",
      "4          37  235443   False      1779285       0       1       0   \n",
      "\n",
      "   ad_document_id  campaign_id  advertiser_id  topic_id_ad  confi_top_ad  \\\n",
      "0         1151028          674            769           16      0.172854   \n",
      "1          923095         5762            551          136      0.464029   \n",
      "2         1687165        28025           3899          125      0.041293   \n",
      "3         1586431          245            232          163      0.369382   \n",
      "4         1377696        11654            555          284      0.263319   \n",
      "\n",
      "   category_id_ad  confi_cat_ad  topic_id_doc  confi_top_doc  category_id_doc  \\\n",
      "0            1702      0.920000         140.0       0.465134           1403.0   \n",
      "1            1403      0.920000         140.0       0.465134           1403.0   \n",
      "2            2100      0.356819         140.0       0.465134           1403.0   \n",
      "3            1403      0.920000         198.0       0.018778           1403.0   \n",
      "4            1206      0.920000         198.0       0.018778           1403.0   \n",
      "\n",
      "   confi_cat_doc  \n",
      "0        0.92000  \n",
      "1        0.92000  \n",
      "2        0.92000  \n",
      "3        0.34082  \n",
      "4        0.34082  \n"
     ]
    }
   ],
   "source": [
    "train = train.merge(topics_categories, how='left', on='document_id',suffixes=('_ad', '_doc'))\n",
    "test = test.merge(topics_categories, how='left', on='document_id',suffixes=('_ad', '_doc'))\n",
    "del topics_categories\n",
    "\n",
    "print (train.head())"
   ]
  },
  {
   "cell_type": "markdown",
   "metadata": {},
   "source": [
    "#### Impute missing topics/categories with value -1 (assign confidence 0)"
   ]
  },
  {
   "cell_type": "code",
   "execution_count": 12,
   "metadata": {
    "collapsed": false
   },
   "outputs": [
    {
     "name": "stdout",
     "output_type": "stream",
     "text": [
      "                 Missing Values  % of Total Values\n",
      "topic_id_doc              31505           2.401223\n",
      "confi_top_doc             31505           2.401223\n",
      "category_id_doc           31505           2.401223\n",
      "confi_cat_doc             31505           2.401223\n"
     ]
    }
   ],
   "source": [
    "missing_values = missing_values_table(train,1)\n",
    "print (missing_values[missing_values[\"% of Total Values\"] != 0])"
   ]
  },
  {
   "cell_type": "code",
   "execution_count": 13,
   "metadata": {
    "collapsed": false
   },
   "outputs": [],
   "source": [
    "train.confi_top_doc = train.confi_top_doc.fillna(0)\n",
    "train.confi_cat_doc = train.confi_cat_doc.fillna(0)\n",
    "test.confi_top_doc = test.confi_top_doc.fillna(0)\n",
    "test.confi_cat_doc = test.confi_cat_doc.fillna(0)\n",
    "train = train.fillna(-1)\n",
    "test = test.fillna(-1)"
   ]
  },
  {
   "cell_type": "markdown",
   "metadata": {},
   "source": [
    "#### Add boolean for identity between ad and document topic & ad and document category"
   ]
  },
  {
   "cell_type": "code",
   "execution_count": null,
   "metadata": {
    "collapsed": true
   },
   "outputs": [],
   "source": []
  },
  {
   "cell_type": "code",
   "execution_count": 316,
   "metadata": {
    "collapsed": true
   },
   "outputs": [],
   "source": [
    "#export end of data preparation and cleaning\n",
    "train.to_csv(tables_path + 'train_prep.csv', index=False)\n",
    "test.to_csv(tables_path + 'test_prep.csv', index=False)"
   ]
  },
  {
   "cell_type": "markdown",
   "metadata": {},
   "source": [
    "## 2. Feature Engineering\n",
    "### 2.1. Click Through Rate\n",
    "### See documetation"
   ]
  },
  {
   "cell_type": "code",
   "execution_count": null,
   "metadata": {
    "collapsed": true
   },
   "outputs": [],
   "source": [
    "skip_computation = True\n",
    "\n",
    "if (skip_computation):\n",
    "    zip_ref = zipfile.ZipFile(ctr_tables, 'r')\n",
    "    zip_ref.extractall(tables_path)\n",
    "    zip_ref.close()\n",
    "\n",
    "else:\n",
    "    ctr_features = features_path + \"ctr_features.py\"\n",
    "    %run $ctr_features"
   ]
  },
  {
   "cell_type": "markdown",
   "metadata": {},
   "source": [
    "### 2.2 topics & categories correlations\n",
    "#### 1. Build dictionaries holding for each pair (topic, topic) or (category, category) the strength of their correlation (more on documentaion)"
   ]
  },
  {
   "cell_type": "code",
   "execution_count": 14,
   "metadata": {
    "collapsed": false
   },
   "outputs": [],
   "source": [
    "skip_computation = True\n",
    "\n",
    "if (not skip_computation):\n",
    "    dictionaries_prep = features_path + \"dictionaries_prep.py\"\n",
    "    %run $dictionaries_prep\n",
    "    \n",
    "    #threshold confidence level to keep\n",
    "    confidence_cut_category = 0.5  \n",
    "    confidence_cut_topic = 0.1\n",
    "    \n",
    "    #which portion of top scores to take, takes 1/parameter highest scores\n",
    "    score_cut_category = 4\n",
    "    score_cut_topic = 4\n",
    "    \n",
    "    category_dict_name, topic_dict_name = create_dicts(confidence_cut_category, confidence_cut_topic, \n",
    "                                                      score_cut_category, score_cut_topic)\n",
    "\n",
    "else:    \n",
    "    topic_dict_name = default_topic_dict_name\n",
    "    category_dict_name = default_category_dict_name\n",
    "\n",
    "Python3 = 0\n",
    "if Python3:\n",
    "    #load dictionaries we created into variables top_dict, cat_dict\n",
    "    with open(dicts_path + topic_dict_name, 'rb') as handle:\n",
    "        top_dict = pickle.load(handle, encoding='iso-8859-1')\n",
    "    \n",
    "    with open(dicts_path + category_dict_name, 'rb') as handle:\n",
    "        cat_dict = pickle.load(handle, encoding='iso-8859-1')\n",
    "\n",
    "        \n",
    "#added because i couldnt load the dictionaries with 2.7... the dict files are different. \n",
    "#should ask amit which they are gonna use (i think it was 2.7, maybe was optional)\n",
    "else:\n",
    "    #load dictionaries for correlation of topics and categories\n",
    "    with open(dicts_path + topic_dict_name, 'rb') as handle:\n",
    "        top_dict = pickle.load(handle)\n",
    "    with open(dicts_path + category_dict_name, 'rb') as handle:\n",
    "        cat_dict = pickle.load(handle)"
   ]
  },
  {
   "cell_type": "markdown",
   "metadata": {},
   "source": [
    "#### 2. Fill NA values with median correlation\n",
    "#### 3. Merge correlations values with train & test"
   ]
  },
  {
   "cell_type": "code",
   "execution_count": 15,
   "metadata": {
    "collapsed": true
   },
   "outputs": [],
   "source": [
    "train, test = correlations(train, test, top_dict, cat_dict)"
   ]
  },
  {
   "cell_type": "code",
   "execution_count": 16,
   "metadata": {
    "collapsed": false
   },
   "outputs": [
    {
     "name": "stdout",
     "output_type": "stream",
     "text": [
      "   display_id   ad_id clicked  document_id  plat_1  plat_2  plat_3  \\\n",
      "0          35  180913   False      1271578       0       0       1   \n",
      "1          35   45024   False      1271578       0       0       1   \n",
      "2          35  289116    True      1271578       0       0       1   \n",
      "3          37  234713    True      1779285       0       1       0   \n",
      "4          37  235443   False      1779285       0       1       0   \n",
      "\n",
      "   ad_document_id  campaign_id  advertiser_id  topic_id_ad  confi_top_ad  \\\n",
      "0         1151028          674            769           16      0.172854   \n",
      "1          923095         5762            551          136      0.464029   \n",
      "2         1687165        28025           3899          125      0.041293   \n",
      "3         1586431          245            232          163      0.369382   \n",
      "4         1377696        11654            555          284      0.263319   \n",
      "\n",
      "   category_id_ad  confi_cat_ad  topic_id_doc  confi_top_doc  category_id_doc  \\\n",
      "0            1702      0.920000         140.0       0.465134           1403.0   \n",
      "1            1403      0.920000         140.0       0.465134           1403.0   \n",
      "2            2100      0.356819         140.0       0.465134           1403.0   \n",
      "3            1403      0.920000         198.0       0.018778           1403.0   \n",
      "4            1206      0.920000         198.0       0.018778           1403.0   \n",
      "\n",
      "   confi_cat_doc   cor_top   cor_cat  \n",
      "0        0.92000  0.119042  1.241683  \n",
      "1        0.92000  0.307566  1.227878  \n",
      "2        0.92000  0.028369  0.475537  \n",
      "3        0.34082  0.009743  0.454876  \n",
      "4        0.34082  0.006974  0.450254  \n"
     ]
    }
   ],
   "source": [
    "print (train.head())"
   ]
  },
  {
   "cell_type": "markdown",
   "metadata": {
    "collapsed": true
   },
   "source": [
    "### 2.3. Click Time\n",
    "### Requires packages: pygecoders, geopy, pycountry, pytz, tzwhere, shapley\n",
    "#### 1. Parse geo_location to country and state\n",
    "#### 2. For each location compute offset from UTC\n",
    "#### 3. Fill NA with offset 0\n",
    "#### 4. Add offset to timestamp\n",
    "#### 5. Convert timestamp to one-hot of: { morning, noon, evening, night, weekend }"
   ]
  },
  {
   "cell_type": "code",
   "execution_count": 17,
   "metadata": {
    "collapsed": false
   },
   "outputs": [
    {
     "name": "stdout",
     "output_type": "stream",
     "text": [
      "   display_id  weekend  morning  noon  evening  night\n",
      "0           1        0        0     0        1      0\n",
      "1           2        0        0     1        0      0\n",
      "2           3        0        0     0        1      0\n",
      "3           4        0        0     0        1      0\n",
      "4           5        0        1     0        0      0\n"
     ]
    }
   ],
   "source": [
    "skip_computation = True\n",
    "\n",
    "if (not skip_computation):\n",
    "    timezone = features_path + \"timezone.py\"\n",
    "    %run $timezone\n",
    "    \n",
    "time_table = p.read_csv(tables_path + \"time_table.csv\")\n",
    "print (time_table.head())"
   ]
  },
  {
   "cell_type": "markdown",
   "metadata": {},
   "source": [
    "### Merge features with train & test"
   ]
  },
  {
   "cell_type": "code",
   "execution_count": 18,
   "metadata": {
    "collapsed": false
   },
   "outputs": [],
   "source": [
    "train, test = merge_ctrs_and_time(train, test)"
   ]
  },
  {
   "cell_type": "code",
   "execution_count": 19,
   "metadata": {
    "collapsed": false
   },
   "outputs": [
    {
     "name": "stdout",
     "output_type": "stream",
     "text": [
      "   display_id   ad_id clicked  document_id  plat_1  plat_2  plat_3  \\\n",
      "0          35  180913   False      1271578       0       0       1   \n",
      "1          35   45024   False      1271578       0       0       1   \n",
      "2          35  289116    True      1271578       0       0       1   \n",
      "3          37  234713    True      1779285       0       1       0   \n",
      "4          37  235443   False      1779285       0       1       0   \n",
      "\n",
      "   ad_document_id  campaign_id  advertiser_id  ...    score_camp  \\\n",
      "0         1151028          674            769  ...      0.168798   \n",
      "1          923095         5762            551  ...      0.972884   \n",
      "2         1687165        28025           3899  ...      1.802084   \n",
      "3         1586431          245            232  ...      1.536780   \n",
      "4         1377696        11654            555  ...      0.290885   \n",
      "\n",
      "   score_docXad  score_docXad_doc  score_docXadv  score_docXcamp  weekend  \\\n",
      "0      0.333150          0.227551       0.230555        0.227915        0   \n",
      "1      0.508195          1.102761       1.444204        1.109772        0   \n",
      "2      1.405909          1.410890       1.675267        1.415749        0   \n",
      "3      1.379369          1.393723       1.243846        1.250615        0   \n",
      "4      0.786492          0.956785       1.003753        0.811572        0   \n",
      "\n",
      "   morning  noon  evening  night  \n",
      "0        0     0        1      0  \n",
      "1        0     0        1      0  \n",
      "2        0     0        1      0  \n",
      "3        0     0        1      0  \n",
      "4        0     0        1      0  \n",
      "\n",
      "[5 rows x 33 columns]\n"
     ]
    }
   ],
   "source": [
    "print (train.head())"
   ]
  },
  {
   "cell_type": "code",
   "execution_count": 20,
   "metadata": {
    "collapsed": false
   },
   "outputs": [],
   "source": [
    "#add a feature of: if ad.topic == doc.topic, same for document, takes quite some time, but adds to score\n",
    "shared_subjects(train)\n",
    "shared_subjects(test)"
   ]
  },
  {
   "cell_type": "code",
   "execution_count": 29,
   "metadata": {
    "collapsed": false
   },
   "outputs": [
    {
     "name": "stdout",
     "output_type": "stream",
     "text": [
      "   display_id   ad_id clicked  document_id  plat_1  plat_2  plat_3  \\\n",
      "0          35  180913   False      1271578       0       0       1   \n",
      "1          35   45024   False      1271578       0       0       1   \n",
      "2          35  289116    True      1271578       0       0       1   \n",
      "3          37  234713    True      1779285       0       1       0   \n",
      "4          37  235443   False      1779285       0       1       0   \n",
      "\n",
      "   ad_document_id  campaign_id  advertiser_id      ...        \\\n",
      "0         1151028          674            769      ...         \n",
      "1          923095         5762            551      ...         \n",
      "2         1687165        28025           3899      ...         \n",
      "3         1586431          245            232      ...         \n",
      "4         1377696        11654            555      ...         \n",
      "\n",
      "   score_docXad_doc  score_docXadv  score_docXcamp  weekend  morning  noon  \\\n",
      "0          0.227551       0.230555        0.227915        0        0     0   \n",
      "1          1.102761       1.444204        1.109772        0        0     0   \n",
      "2          1.410890       1.675267        1.415749        0        0     0   \n",
      "3          1.393723       1.243846        1.250615        0        0     0   \n",
      "4          0.956785       1.003753        0.811572        0        0     0   \n",
      "\n",
      "   evening  night  same_topic  same_category  \n",
      "0        1      0       False          False  \n",
      "1        1      0       False           True  \n",
      "2        1      0       False          False  \n",
      "3        1      0       False           True  \n",
      "4        1      0       False          False  \n",
      "\n",
      "[5 rows x 35 columns]\n"
     ]
    }
   ],
   "source": [
    "print train.head()"
   ]
  },
  {
   "cell_type": "code",
   "execution_count": null,
   "metadata": {
    "collapsed": true
   },
   "outputs": [],
   "source": [
    "#save\n",
    "train.to_csv(tables_path + 'train_features.csv', index=False)\n",
    "test.to_csv(tables_path + 'test_features.csv', index=False)"
   ]
  },
  {
   "cell_type": "code",
   "execution_count": null,
   "metadata": {
    "collapsed": true
   },
   "outputs": [],
   "source": [
    "#load\n",
    "train = p.read_csv(path_b + 'train_features.csv')\n",
    "test = p.read_csv(path_b + 'test_features.csv')"
   ]
  },
  {
   "cell_type": "markdown",
   "metadata": {},
   "source": [
    "### Impute missing values with mean values or median\n",
    "### all pairs of display documents and ad attributes has extremely high rate of nulls"
   ]
  },
  {
   "cell_type": "code",
   "execution_count": 23,
   "metadata": {
    "collapsed": false
   },
   "outputs": [
    {
     "name": "stdout",
     "output_type": "stream",
     "text": [
      "                  Missing Values  % of Total Values\n",
      "score_ad                   16629           3.830075\n",
      "score_ad_doc                8491           1.955690\n",
      "score_adv                   1003           0.231016\n",
      "score_camp                  4116           0.948018\n",
      "score_docXad              263801          60.759981\n",
      "score_docXad_doc          241025          55.514097\n",
      "score_docXadv             203699          46.916984\n",
      "score_docXcamp            236934          54.571837\n"
     ]
    }
   ],
   "source": [
    "missing_values = missing_values_table(test, 0)\n",
    "print (missing_values[missing_values[\"% of Total Values\"] != 0])"
   ]
  },
  {
   "cell_type": "code",
   "execution_count": 24,
   "metadata": {
    "collapsed": false
   },
   "outputs": [],
   "source": [
    "#choose \"median\" or \"mean\"\n",
    "fill = \"median\"\n",
    "fill_na(test,fill)"
   ]
  },
  {
   "cell_type": "markdown",
   "metadata": {
    "collapsed": true
   },
   "source": [
    "## 3. Model Selection\n",
    "### 1. Feature Selection - Choose predictors for algorithm"
   ]
  },
  {
   "cell_type": "code",
   "execution_count": 25,
   "metadata": {
    "collapsed": false
   },
   "outputs": [],
   "source": [
    "predictors= [x for x in train.columns if x not in \n",
    "             ['display_id','ad_id','clicked','document_id','ad_document_id',\n",
    "              'campaign_id','advertiser_id','confi_top_ad','topic_id_ad','topic_id_doc',\n",
    "              'category_id_ad','confi_cat_ad','confi_top_doc','category_id_doc','confi_cat_doc']]"
   ]
  },
  {
   "cell_type": "code",
   "execution_count": 26,
   "metadata": {
    "collapsed": false,
    "scrolled": true
   },
   "outputs": [
    {
     "data": {
      "text/html": [
       "<div>\n",
       "<table border=\"1\" class=\"dataframe\">\n",
       "  <thead>\n",
       "    <tr style=\"text-align: right;\">\n",
       "      <th></th>\n",
       "      <th>plat_1</th>\n",
       "      <th>plat_2</th>\n",
       "      <th>plat_3</th>\n",
       "      <th>cor_top</th>\n",
       "      <th>cor_cat</th>\n",
       "      <th>score_ad</th>\n",
       "      <th>score_ad_doc</th>\n",
       "      <th>score_adv</th>\n",
       "      <th>score_camp</th>\n",
       "      <th>score_docXad</th>\n",
       "      <th>score_docXad_doc</th>\n",
       "      <th>score_docXadv</th>\n",
       "      <th>score_docXcamp</th>\n",
       "      <th>weekend</th>\n",
       "      <th>morning</th>\n",
       "      <th>noon</th>\n",
       "      <th>evening</th>\n",
       "      <th>night</th>\n",
       "      <th>same_topic</th>\n",
       "      <th>same_category</th>\n",
       "    </tr>\n",
       "  </thead>\n",
       "  <tbody>\n",
       "    <tr>\n",
       "      <th>0</th>\n",
       "      <td>0</td>\n",
       "      <td>0</td>\n",
       "      <td>1</td>\n",
       "      <td>0.119042</td>\n",
       "      <td>1.241683</td>\n",
       "      <td>0.214123</td>\n",
       "      <td>0.182049</td>\n",
       "      <td>0.211121</td>\n",
       "      <td>0.168798</td>\n",
       "      <td>0.333150</td>\n",
       "      <td>0.227551</td>\n",
       "      <td>0.230555</td>\n",
       "      <td>0.227915</td>\n",
       "      <td>0</td>\n",
       "      <td>0</td>\n",
       "      <td>0</td>\n",
       "      <td>1</td>\n",
       "      <td>0</td>\n",
       "      <td>False</td>\n",
       "      <td>False</td>\n",
       "    </tr>\n",
       "    <tr>\n",
       "      <th>1</th>\n",
       "      <td>0</td>\n",
       "      <td>0</td>\n",
       "      <td>1</td>\n",
       "      <td>0.307566</td>\n",
       "      <td>1.227878</td>\n",
       "      <td>0.740417</td>\n",
       "      <td>0.888856</td>\n",
       "      <td>1.812682</td>\n",
       "      <td>0.972884</td>\n",
       "      <td>0.508195</td>\n",
       "      <td>1.102761</td>\n",
       "      <td>1.444204</td>\n",
       "      <td>1.109772</td>\n",
       "      <td>0</td>\n",
       "      <td>0</td>\n",
       "      <td>0</td>\n",
       "      <td>1</td>\n",
       "      <td>0</td>\n",
       "      <td>False</td>\n",
       "      <td>True</td>\n",
       "    </tr>\n",
       "    <tr>\n",
       "      <th>2</th>\n",
       "      <td>0</td>\n",
       "      <td>0</td>\n",
       "      <td>1</td>\n",
       "      <td>0.028369</td>\n",
       "      <td>0.475537</td>\n",
       "      <td>1.850501</td>\n",
       "      <td>1.801142</td>\n",
       "      <td>1.723684</td>\n",
       "      <td>1.802084</td>\n",
       "      <td>1.405909</td>\n",
       "      <td>1.410890</td>\n",
       "      <td>1.675267</td>\n",
       "      <td>1.415749</td>\n",
       "      <td>0</td>\n",
       "      <td>0</td>\n",
       "      <td>0</td>\n",
       "      <td>1</td>\n",
       "      <td>0</td>\n",
       "      <td>False</td>\n",
       "      <td>False</td>\n",
       "    </tr>\n",
       "    <tr>\n",
       "      <th>3</th>\n",
       "      <td>0</td>\n",
       "      <td>1</td>\n",
       "      <td>0</td>\n",
       "      <td>0.009743</td>\n",
       "      <td>0.454876</td>\n",
       "      <td>2.249686</td>\n",
       "      <td>1.993534</td>\n",
       "      <td>1.455647</td>\n",
       "      <td>1.536780</td>\n",
       "      <td>1.379369</td>\n",
       "      <td>1.393723</td>\n",
       "      <td>1.243846</td>\n",
       "      <td>1.250615</td>\n",
       "      <td>0</td>\n",
       "      <td>0</td>\n",
       "      <td>0</td>\n",
       "      <td>1</td>\n",
       "      <td>0</td>\n",
       "      <td>False</td>\n",
       "      <td>True</td>\n",
       "    </tr>\n",
       "    <tr>\n",
       "      <th>4</th>\n",
       "      <td>0</td>\n",
       "      <td>1</td>\n",
       "      <td>0</td>\n",
       "      <td>0.006974</td>\n",
       "      <td>0.450254</td>\n",
       "      <td>0.309719</td>\n",
       "      <td>0.278252</td>\n",
       "      <td>0.311351</td>\n",
       "      <td>0.290885</td>\n",
       "      <td>0.786492</td>\n",
       "      <td>0.956785</td>\n",
       "      <td>1.003753</td>\n",
       "      <td>0.811572</td>\n",
       "      <td>0</td>\n",
       "      <td>0</td>\n",
       "      <td>0</td>\n",
       "      <td>1</td>\n",
       "      <td>0</td>\n",
       "      <td>False</td>\n",
       "      <td>False</td>\n",
       "    </tr>\n",
       "  </tbody>\n",
       "</table>\n",
       "</div>"
      ],
      "text/plain": [
       "   plat_1  plat_2  plat_3   cor_top   cor_cat  score_ad  score_ad_doc  \\\n",
       "0       0       0       1  0.119042  1.241683  0.214123      0.182049   \n",
       "1       0       0       1  0.307566  1.227878  0.740417      0.888856   \n",
       "2       0       0       1  0.028369  0.475537  1.850501      1.801142   \n",
       "3       0       1       0  0.009743  0.454876  2.249686      1.993534   \n",
       "4       0       1       0  0.006974  0.450254  0.309719      0.278252   \n",
       "\n",
       "   score_adv  score_camp  score_docXad  score_docXad_doc  score_docXadv  \\\n",
       "0   0.211121    0.168798      0.333150          0.227551       0.230555   \n",
       "1   1.812682    0.972884      0.508195          1.102761       1.444204   \n",
       "2   1.723684    1.802084      1.405909          1.410890       1.675267   \n",
       "3   1.455647    1.536780      1.379369          1.393723       1.243846   \n",
       "4   0.311351    0.290885      0.786492          0.956785       1.003753   \n",
       "\n",
       "   score_docXcamp  weekend  morning  noon  evening  night same_topic  \\\n",
       "0        0.227915        0        0     0        1      0      False   \n",
       "1        1.109772        0        0     0        1      0      False   \n",
       "2        1.415749        0        0     0        1      0      False   \n",
       "3        1.250615        0        0     0        1      0      False   \n",
       "4        0.811572        0        0     0        1      0      False   \n",
       "\n",
       "  same_category  \n",
       "0         False  \n",
       "1          True  \n",
       "2         False  \n",
       "3          True  \n",
       "4         False  "
      ]
     },
     "execution_count": 26,
     "metadata": {},
     "output_type": "execute_result"
    }
   ],
   "source": [
    "train[predictors].head()"
   ]
  },
  {
   "cell_type": "markdown",
   "metadata": {},
   "source": [
    "### 2. Build the model: Logistic Regression\n",
    "#### 2.1. Parameter Tuning - use Grid Search to find optimal parameters"
   ]
  },
  {
   "cell_type": "code",
   "execution_count": 30,
   "metadata": {
    "collapsed": false
   },
   "outputs": [],
   "source": [
    "#reduce last 1/5 for validation (it's not good we're using test for grid search and feature selection..)\n",
    "train, validation = train_validation_split(train)"
   ]
  },
  {
   "cell_type": "code",
   "execution_count": null,
   "metadata": {
    "collapsed": true
   },
   "outputs": [],
   "source": [
    "#put whichever values you want in all of the 3 algorithms\n",
    "#i didnt put xgboost cause you need to download and install it, so i figures gradient boosting will also be ok\n",
    "#and easier for them\n",
    "#each algorithmes uses the first list as 1 specific parameter, and the 2 as another\n",
    "#i tried to put the most cruical parameters as i could see\n",
    "#i put stupid numbers.. didnt try to make it well, its late... @_@\n",
    "#maybe tomorrow we can change the parameters.. ill consider staying at home until \n",
    "#13:00 or so so we can work on it together\n",
    "#should also remove the prints from the scoring function for these 3.."
   ]
  },
  {
   "cell_type": "code",
   "execution_count": 36,
   "metadata": {
    "collapsed": false
   },
   "outputs": [
    {
     "name": "stdout",
     "output_type": "stream",
     "text": [
      "MAP: 0.708060382615\n",
      "PORTION: 0.457830637216\n",
      "MAP: 0.709378637148\n",
      "PORTION: 0.464022019311\n",
      "MAP: 0.474771379162\n",
      "PORTION: 0.192342617887\n",
      "MAP: 0.474771379162\n",
      "PORTION: 0.192342617887\n",
      "best parameters found were: min_samples_split = 4\n",
      "min_samples_leaf = 0.3\n",
      "with score: 0.70937863714807459\n"
     ]
    }
   ],
   "source": [
    "#Random Forest\n",
    "min_samples_split, min_samples_leaf = grid_search(\"randomforest\", [3,4,5], [5,6,7], train, validation, predictors)"
   ]
  },
  {
   "cell_type": "code",
   "execution_count": null,
   "metadata": {
    "collapsed": false
   },
   "outputs": [],
   "source": [
    "#Gradiant Boosting\n",
    "min_split, max_depth = grid_search(\"gradient\", [4,5,6,7], [4,5,6], train, validation, predictors)"
   ]
  },
  {
   "cell_type": "code",
   "execution_count": 95,
   "metadata": {
    "collapsed": false
   },
   "outputs": [
    {
     "name": "stdout",
     "output_type": "stream",
     "text": [
      "best parameters found were: C = 1e-09\n",
      "solver = lbfgs\n",
      "with score: 0.72571011396815366\n"
     ]
    }
   ],
   "source": [
    "#Logistic Regression\n",
    "c, solv = grid_search(\"logistic\", [10**-10,10**-9,10**-8,10**-7], [\"sag\", \"lbfgs\"], train, validation, predictors)"
   ]
  },
  {
   "cell_type": "code",
   "execution_count": 82,
   "metadata": {
    "collapsed": false
   },
   "outputs": [
    {
     "name": "stdout",
     "output_type": "stream",
     "text": [
      "MAP: 0.742291056817\n",
      "MAP: 0.727769617711\n",
      "MAP: 0.730624010758\n",
      "MAP: 0.713256385703\n",
      "MAP: 0.726183288120\n",
      "MAP: 0.708945173755\n",
      "MAP: 0.712061943140\n",
      "MAP: 0.692013951598\n",
      "MAP: 0.725336820292\n",
      "MAP: 0.708113152617\n",
      "MAP: 0.711265807484\n",
      "MAP: 0.691081226923\n",
      "MAP: 0.706149258694\n",
      "MAP: 0.685727612185\n",
      "MAP: 0.689378604083\n",
      "MAP: 0.663771905123\n",
      "MAP: 0.758348783374\n",
      "MAP: 0.743252243744\n",
      "MAP: 0.746172630649\n",
      "MAP: 0.726931521595\n",
      "MAP: 0.741862994988\n",
      "MAP: 0.721934934556\n",
      "MAP: 0.725624256893\n",
      "MAP: 0.700319575194\n",
      "MAP: 0.740290280474\n",
      "MAP: 0.720542228230\n",
      "MAP: 0.724217723133\n",
      "MAP: 0.699127821298\n",
      "MAP: 0.718351772192\n",
      "MAP: 0.692241470745\n",
      "MAP: 0.697374858448\n",
      "MAP: 0.663674282188\n",
      "MAP: 0.753662725691\n",
      "MAP: 0.739020523862\n",
      "MAP: 0.741985716669\n",
      "MAP: 0.723021783381\n",
      "MAP: 0.737544915643\n",
      "MAP: 0.718213261983\n",
      "MAP: 0.721787057836\n",
      "MAP: 0.698550447557\n",
      "MAP: 0.736271521883\n",
      "MAP: 0.717100741477\n",
      "MAP: 0.720469375527\n",
      "MAP: 0.697439518304\n",
      "MAP: 0.714997765833\n",
      "MAP: 0.691794955236\n",
      "MAP: 0.695375100421\n",
      "MAP: 0.664433043011\n",
      "MAP: 0.775599580725\n",
      "MAP: 0.759471572552\n",
      "MAP: 0.763402906332\n",
      "MAP: 0.742823883333\n",
      "MAP: 0.758472720762\n",
      "MAP: 0.736835279835\n",
      "MAP: 0.741578591245\n",
      "MAP: 0.711604156320\n",
      "MAP: 0.756195552520\n",
      "MAP: 0.734479301492\n",
      "MAP: 0.739299228172\n",
      "MAP: 0.709966389303\n",
      "MAP: 0.732541776180\n",
      "MAP: 0.701964821025\n",
      "MAP: 0.707693071279\n",
      "MAP: 0.664943725253\n",
      "MAP: 0.759049075475\n",
      "MAP: 0.743943278362\n",
      "MAP: 0.747072981571\n",
      "MAP: 0.726835999426\n",
      "MAP: 0.742361518723\n",
      "MAP: 0.722245895039\n",
      "MAP: 0.726100182422\n",
      "MAP: 0.700880887477\n",
      "MAP: 0.740805885407\n",
      "MAP: 0.720773579067\n",
      "MAP: 0.724340790428\n",
      "MAP: 0.699542268050\n",
      "MAP: 0.718083461973\n",
      "MAP: 0.691991503041\n",
      "MAP: 0.697155100308\n",
      "MAP: 0.663198317466\n",
      "MAP: 0.783576724384\n",
      "MAP: 0.767982742759\n",
      "MAP: 0.772246435908\n",
      "MAP: 0.749870465793\n",
      "MAP: 0.766461583251\n",
      "MAP: 0.743294894008\n",
      "MAP: 0.748539027311\n",
      "MAP: 0.716833983317\n",
      "MAP: 0.764053141327\n",
      "MAP: 0.740944755483\n",
      "MAP: 0.745939900204\n",
      "MAP: 0.715073816006\n",
      "MAP: 0.737906350107\n",
      "MAP: 0.704387162355\n",
      "MAP: 0.712086110507\n",
      "MAP: 0.662808900335\n",
      "MAP: 0.777300997833\n",
      "MAP: 0.760991602578\n",
      "MAP: 0.764546428822\n",
      "MAP: 0.743951289494\n",
      "MAP: 0.759189599512\n",
      "MAP: 0.737874273511\n",
      "MAP: 0.742788687654\n",
      "MAP: 0.712326945435\n",
      "MAP: 0.757171531039\n",
      "MAP: 0.735539412576\n",
      "MAP: 0.740365876716\n",
      "MAP: 0.710757563073\n",
      "MAP: 0.732650443818\n",
      "MAP: 0.701991778250\n",
      "MAP: 0.708057695373\n",
      "MAP: 0.664389648072\n",
      "MAP: 0.806921124368\n",
      "MAP: 0.795459592853\n",
      "MAP: 0.799683756246\n",
      "MAP: 0.780659308340\n",
      "MAP: 0.794025342228\n",
      "MAP: 0.772991314428\n",
      "MAP: 0.779260581906\n",
      "MAP: 0.743463645137\n",
      "MAP: 0.790497025691\n",
      "MAP: 0.769122015971\n",
      "MAP: 0.775707260688\n",
      "MAP: 0.739937649562\n",
      "MAP: 0.765663284119\n",
      "MAP: 0.726885046766\n",
      "MAP: 0.736447234473\n",
      "MAP: 0.665584396344\n",
      "MAP: 0.757428694653\n",
      "MAP: 0.741937689069\n",
      "MAP: 0.744896195480\n",
      "MAP: 0.724985670891\n",
      "MAP: 0.740810761067\n",
      "MAP: 0.720040246925\n",
      "MAP: 0.724072911336\n",
      "MAP: 0.699101946524\n",
      "MAP: 0.739143943898\n",
      "MAP: 0.718790251628\n",
      "MAP: 0.722616648983\n",
      "MAP: 0.697689156784\n",
      "MAP: 0.715871966202\n",
      "MAP: 0.689738987451\n",
      "MAP: 0.695077708695\n",
      "MAP: 0.660624118077\n",
      "MAP: 0.781580408964\n",
      "MAP: 0.765717802859\n",
      "MAP: 0.769530600102\n",
      "MAP: 0.747231221741\n",
      "MAP: 0.764198101346\n",
      "MAP: 0.740659701842\n",
      "MAP: 0.745859217371\n",
      "MAP: 0.713654136064\n",
      "MAP: 0.762121957509\n",
      "MAP: 0.738272996581\n",
      "MAP: 0.743551635046\n",
      "MAP: 0.711634029534\n",
      "MAP: 0.735260450302\n",
      "MAP: 0.700887449165\n",
      "MAP: 0.708671714236\n",
      "MAP: 0.658522874070\n",
      "MAP: 0.775976033389\n",
      "MAP: 0.759249941680\n",
      "MAP: 0.762985661171\n",
      "MAP: 0.741310547541\n",
      "MAP: 0.758056392727\n",
      "MAP: 0.735681661123\n",
      "MAP: 0.740207221808\n",
      "MAP: 0.710151303792\n",
      "MAP: 0.755653923166\n",
      "MAP: 0.733678846723\n",
      "MAP: 0.738334741160\n",
      "MAP: 0.708538071847\n",
      "MAP: 0.730380957483\n",
      "MAP: 0.699743738547\n",
      "MAP: 0.705620571003\n",
      "MAP: 0.661764912706\n",
      "MAP: 0.805694418506\n",
      "MAP: 0.794125888992\n",
      "MAP: 0.798290972245\n",
      "MAP: 0.778811089123\n",
      "MAP: 0.792865413378\n",
      "MAP: 0.770999395794\n",
      "MAP: 0.777574340485\n",
      "MAP: 0.740418098010\n",
      "MAP: 0.789003757636\n",
      "MAP: 0.766791859669\n",
      "MAP: 0.774047789076\n",
      "MAP: 0.736421155894\n",
      "MAP: 0.763620727605\n",
      "MAP: 0.722689855851\n",
      "MAP: 0.733327705873\n",
      "MAP: 0.661189216443\n",
      "MAP: 0.781619789785\n",
      "MAP: 0.765347237044\n",
      "MAP: 0.769630840445\n",
      "MAP: 0.747112927490\n",
      "MAP: 0.764494552430\n",
      "MAP: 0.740702367783\n",
      "MAP: 0.746035124503\n",
      "MAP: 0.713260791042\n",
      "MAP: 0.762032477537\n",
      "MAP: 0.738331605688\n",
      "MAP: 0.743529372479\n",
      "MAP: 0.711260610439\n",
      "MAP: 0.734005696213\n",
      "MAP: 0.699569585854\n",
      "MAP: 0.707278560392\n",
      "MAP: 0.656528603120\n",
      "MAP: 0.811418811415\n",
      "MAP: 0.801281052864\n",
      "MAP: 0.806637004242\n",
      "MAP: 0.788393477111\n",
      "MAP: 0.799841548898\n",
      "MAP: 0.779691199858\n",
      "MAP: 0.787005355701\n",
      "MAP: 0.748376899156\n",
      "MAP: 0.795927029802\n",
      "MAP: 0.774751358458\n",
      "MAP: 0.782977928241\n",
      "MAP: 0.743756617272\n",
      "MAP: 0.770225576864\n",
      "MAP: 0.723813396831\n",
      "MAP: 0.738285271243\n",
      "MAP: 0.645591243503\n",
      "MAP: 0.807065167974\n",
      "MAP: 0.795034626590\n",
      "MAP: 0.799562836750\n",
      "MAP: 0.780806338483\n",
      "MAP: 0.794176502644\n",
      "MAP: 0.772927248886\n",
      "MAP: 0.779720688976\n",
      "MAP: 0.742140922556\n",
      "MAP: 0.790430138937\n",
      "MAP: 0.768700138149\n",
      "MAP: 0.776094029057\n",
      "MAP: 0.737597489678\n",
      "MAP: 0.763888739954\n",
      "MAP: 0.722168989738\n",
      "MAP: 0.733086195393\n",
      "MAP: 0.658409910835\n",
      "MAP: 0.823978974719\n",
      "MAP: 0.823790304788\n",
      "MAP: 0.827300191161\n",
      "MAP: 0.828530189982\n",
      "MAP: 0.822761899745\n",
      "MAP: 0.821429112298\n",
      "MAP: 0.828023347982\n",
      "MAP: 0.829938212379\n",
      "MAP: 0.816195618223\n",
      "MAP: 0.811943862672\n",
      "MAP: 0.820279500577\n",
      "MAP: 0.815242403947\n",
      "MAP: 0.806954579859\n",
      "MAP: 0.782252230974\n",
      "MAP: 0.810648613243\n",
      "MAP: 0.499691078999\n",
      "MAP: 0.725377973369\n",
      "MAP: 0.725436144222\n",
      "MAP: 0.725426181258\n",
      "MAP: 0.725406028009\n",
      "MAP: 0.725175500233\n",
      "MAP: 0.725290956169\n",
      "MAP: 0.725192431785\n",
      "MAP: 0.725248329420\n",
      "MAP: 0.725346697031\n",
      "MAP: 0.725447008634\n",
      "MAP: 0.725393917246\n",
      "MAP: 0.725396151270\n",
      "MAP: 0.725313116120\n",
      "MAP: 0.725402563311\n",
      "MAP: 0.725341570533\n",
      "MAP: 0.725355985868\n",
      "MAP: 0.725379619492\n",
      "MAP: 0.725451947003\n",
      "MAP: 0.725427827381\n",
      "MAP: 0.725410966378\n",
      "MAP: 0.725183730849\n",
      "MAP: 0.725294248415\n",
      "MAP: 0.725182555046\n",
      "MAP: 0.725248329420\n",
      "MAP: 0.725356573769\n",
      "MAP: 0.725456885372\n",
      "MAP: 0.725403793984\n",
      "MAP: 0.725406028009\n",
      "MAP: 0.725312128447\n",
      "MAP: 0.725403550985\n",
      "MAP: 0.725340582859\n",
      "MAP: 0.725352693622\n",
      "MAP: 0.725357561443\n",
      "MAP: 0.725437131896\n",
      "MAP: 0.725395892594\n",
      "MAP: 0.725397138944\n",
      "MAP: 0.725291058071\n",
      "MAP: 0.725394332696\n",
      "MAP: 0.725313915666\n",
      "MAP: 0.725333927819\n",
      "MAP: 0.725335832618\n",
      "MAP: 0.725437131896\n",
      "MAP: 0.725384040508\n",
      "MAP: 0.725386274532\n",
      "MAP: 0.725335832618\n",
      "MAP: 0.725426267483\n",
      "MAP: 0.725384040508\n",
      "MAP: 0.725386274532\n",
      "MAP: 0.725347684704\n",
      "MAP: 0.725427255157\n",
      "MAP: 0.725386015855\n",
      "MAP: 0.725387262206\n",
      "MAP: 0.725291058071\n",
      "MAP: 0.725394332696\n",
      "MAP: 0.725313915666\n",
      "MAP: 0.725333927819\n",
      "MAP: 0.725336820292\n",
      "MAP: 0.725437131896\n",
      "MAP: 0.725384040508\n",
      "MAP: 0.725386274532\n",
      "MAP: 0.725336820292\n",
      "MAP: 0.725427255157\n",
      "MAP: 0.725384040508\n",
      "MAP: 0.725386274532\n",
      "best score is: 0.72545688537214292\n"
     ]
    },
    {
     "data": {
      "text/plain": [
       "['cor_top',\n",
       " 'cor_cat',\n",
       " 'score_ad',\n",
       " 'score_ad_doc',\n",
       " 'score_adv',\n",
       " 'score_camp',\n",
       " 'score_docXad_doc',\n",
       " 'score_docXadv',\n",
       " 'score_docXcamp',\n",
       " 'same_category']"
      ]
     },
     "execution_count": 82,
     "metadata": {},
     "output_type": "execute_result"
    }
   ],
   "source": [
    "#select features:\n",
    "predictors = feature_selection(train, validation, c, solv)"
   ]
  },
  {
   "cell_type": "markdown",
   "metadata": {},
   "source": [
    "#### 2.2. Make prediction using selected features and parameters"
   ]
  },
  {
   "cell_type": "code",
   "execution_count": 43,
   "metadata": {
    "collapsed": false
   },
   "outputs": [
    {
     "data": {
      "text/plain": [
       "LogisticRegression(C=1e-07, class_weight=None, dual=False, fit_intercept=True,\n",
       "          intercept_scaling=1, max_iter=200, multi_class='ovr', n_jobs=1,\n",
       "          penalty='l2', random_state=None, solver='sag', tol=0.0001,\n",
       "          verbose=0, warm_start=False)"
      ]
     },
     "execution_count": 43,
     "metadata": {},
     "output_type": "execute_result"
    }
   ],
   "source": [
    "alg = LogisticRegression(C = c, solver = solv)\n",
    "alg.fit(train[predictors], train[\"clicked\"])"
   ]
  },
  {
   "cell_type": "code",
   "execution_count": 85,
   "metadata": {
    "collapsed": false
   },
   "outputs": [
    {
     "name": "stdout",
     "output_type": "stream",
     "text": [
      "MAP: 0.650306256631\n",
      "PORTION: 0.444746011805\n"
     ]
    },
    {
     "data": {
      "text/plain": [
       "(0.65030625663144359, 0.44474601180458434)"
      ]
     },
     "execution_count": 85,
     "metadata": {},
     "output_type": "execute_result"
    }
   ],
   "source": [
    "predict(alg, test, predictors)"
   ]
  },
  {
   "cell_type": "code",
   "execution_count": null,
   "metadata": {
    "collapsed": true
   },
   "outputs": [],
   "source": []
  }
 ],
 "metadata": {
  "anaconda-cloud": {},
  "kernelspec": {
   "display_name": "Python [conda root]",
   "language": "python",
   "name": "conda-root-py"
  },
  "language_info": {
   "codemirror_mode": {
    "name": "ipython",
    "version": 3
   },
   "file_extension": ".py",
   "mimetype": "text/x-python",
   "name": "python",
   "nbconvert_exporter": "python",
   "pygments_lexer": "ipython3",
   "version": "3.5.2"
  }
 },
 "nbformat": 4,
 "nbformat_minor": 1
}
